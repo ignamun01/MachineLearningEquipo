{
 "cells": [
  {
   "cell_type": "markdown",
   "metadata": {},
   "source": [
    "# Tarea 2. Ejercicio 3."
   ]
  },
  {
   "cell_type": "code",
   "execution_count": 2,
   "metadata": {},
   "outputs": [],
   "source": [
    "import pandas as pd"
   ]
  },
  {
   "cell_type": "markdown",
   "metadata": {},
   "source": [
    "En este ejercicio nos preguntamos ¿Qué modelo elegimos según las metricas obtenidas en cada ejercicio?\n",
    "Para responder a esta duda, realizamos una tabla comparativa entre los valores."
   ]
  },
  {
   "cell_type": "code",
   "execution_count": 4,
   "metadata": {},
   "outputs": [
    {
     "data": {
      "text/html": [
       "<div>\n",
       "<style scoped>\n",
       "    .dataframe tbody tr th:only-of-type {\n",
       "        vertical-align: middle;\n",
       "    }\n",
       "\n",
       "    .dataframe tbody tr th {\n",
       "        vertical-align: top;\n",
       "    }\n",
       "\n",
       "    .dataframe thead th {\n",
       "        text-align: right;\n",
       "    }\n",
       "</style>\n",
       "<table border=\"1\" class=\"dataframe\">\n",
       "  <thead>\n",
       "    <tr style=\"text-align: right;\">\n",
       "      <th></th>\n",
       "      <th>Muestra</th>\n",
       "      <th>AUC</th>\n",
       "      <th>GINI</th>\n",
       "      <th>KS</th>\n",
       "    </tr>\n",
       "    <tr>\n",
       "      <th>Modelo</th>\n",
       "      <th></th>\n",
       "      <th></th>\n",
       "      <th></th>\n",
       "      <th></th>\n",
       "    </tr>\n",
       "  </thead>\n",
       "  <tbody>\n",
       "    <tr>\n",
       "      <th>Regresión Logistica</th>\n",
       "      <td>Train</td>\n",
       "      <td>0.690000</td>\n",
       "      <td>0.375052</td>\n",
       "      <td>0.272232</td>\n",
       "    </tr>\n",
       "    <tr>\n",
       "      <th>Regresión Logistica</th>\n",
       "      <td>Test</td>\n",
       "      <td>0.686588</td>\n",
       "      <td>0.307447</td>\n",
       "      <td>0.224776</td>\n",
       "    </tr>\n",
       "    <tr>\n",
       "      <th>Árbol</th>\n",
       "      <td>Train</td>\n",
       "      <td>0.740000</td>\n",
       "      <td>0.481100</td>\n",
       "      <td>0.364100</td>\n",
       "    </tr>\n",
       "    <tr>\n",
       "      <th>Árbol</th>\n",
       "      <td>Test</td>\n",
       "      <td>0.681200</td>\n",
       "      <td>0.392700</td>\n",
       "      <td>0.306300</td>\n",
       "    </tr>\n",
       "  </tbody>\n",
       "</table>\n",
       "</div>"
      ],
      "text/plain": [
       "                    Muestra       AUC      GINI        KS\n",
       "Modelo                                                   \n",
       "Regresión Logistica   Train  0.690000  0.375052  0.272232\n",
       "Regresión Logistica    Test  0.686588  0.307447  0.224776\n",
       "Árbol                 Train  0.740000  0.481100  0.364100\n",
       "Árbol                  Test  0.681200  0.392700  0.306300"
      ]
     },
     "execution_count": 4,
     "metadata": {},
     "output_type": "execute_result"
    }
   ],
   "source": [
    "DF = pd.read_excel('Comparacion.xlsx',index_col=0)\n",
    "DF"
   ]
  },
  {
   "cell_type": "markdown",
   "metadata": {},
   "source": [
    "Observamos que el AUC con Test en regresión logistica es mejor que el del árbol. Sin embargo esto no ocurre con GINI y KS. Además de eso, en la muestra Train, el comportamiento del Árbol de clasificación es mejor. \n",
    "Por lo tanto, daremos por hecho que el árbol es el mejor modelo para definir si se otorga crédito o no."
   ]
  }
 ],
 "metadata": {
  "kernelspec": {
   "display_name": "Python 3",
   "language": "python",
   "name": "python3"
  },
  "language_info": {
   "codemirror_mode": {
    "name": "ipython",
    "version": 3
   },
   "file_extension": ".py",
   "mimetype": "text/x-python",
   "name": "python",
   "nbconvert_exporter": "python",
   "pygments_lexer": "ipython3",
   "version": "3.8.5"
  }
 },
 "nbformat": 4,
 "nbformat_minor": 4
}
