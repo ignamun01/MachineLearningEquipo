{
 "cells": [
  {
   "cell_type": "code",
   "execution_count": 1,
   "metadata": {},
   "outputs": [],
   "source": [
    "#pip install pydotplus"
   ]
  },
  {
   "cell_type": "code",
   "execution_count": 2,
   "metadata": {},
   "outputs": [],
   "source": [
    "import pandas as pd\n",
    "from sklearn.model_selection import train_test_split\n",
    "from sklearn.impute import SimpleImputer\n",
    "from sklearn.preprocessing import OneHotEncoder\n",
    "from sklearn.compose import ColumnTransformer\n",
    "from sklearn.pipeline import Pipeline\n",
    "from sklearn.tree import DecisionTreeClassifier, export_graphviz\n",
    "from sklearn import metrics\n",
    "from pylab import*\n",
    "import seaborn as sns\n",
    "import numpy as np"
   ]
  },
  {
   "cell_type": "code",
   "execution_count": 4,
   "metadata": {},
   "outputs": [],
   "source": [
    "from sklearn.model_selection import (GridSearchCV, cross_val_score,\n",
    "                                                 RandomizedSearchCV,\n",
    "                                                 cross_validate,\n",
    "                                                 StratifiedKFold)"
   ]
  },
  {
   "cell_type": "code",
   "execution_count": 5,
   "metadata": {},
   "outputs": [],
   "source": [
    "#from chapter_8_utils import performance_evaluation_report"
   ]
  },
  {
   "cell_type": "code",
   "execution_count": 5,
   "metadata": {},
   "outputs": [],
   "source": [
    "def performance_evaluation_report(model, X_test, y_test, show_plot=False, labels=None, show_pr_curve=False):\n",
    "    '''\n",
    "    Function for creating a performance report of a classification model.\n",
    "    \n",
    "    Parameters\n",
    "    ----------\n",
    "    model : scikit-learn estimator\n",
    "        A fitted estimator for classification problems.\n",
    "    X_test : pd.DataFrame\n",
    "        DataFrame with features matching y_test\n",
    "    y_test : array/pd.Series\n",
    "        Target of a classification problem.\n",
    "    show_plot : bool\n",
    "        Flag whether to show the plot\n",
    "    labels : list\n",
    "        List with the class names.\n",
    "    show_pr_curve : bool\n",
    "        Flag whether to also show the PR-curve. For this to take effect, \n",
    "        show_plot must be True.\n",
    "        \n",
    "    Return\n",
    "    ------\n",
    "    stats : pd.Series\n",
    "        A series with the most important evaluation metrics\n",
    "    '''\n",
    "\n",
    "    y_pred = model.predict(X_test)\n",
    "    y_pred_prob = model.predict_proba(X_test)[:, 1]\n",
    "\n",
    "    cm = metrics.confusion_matrix(y_test, y_pred)\n",
    "    tn, fp, fn, tp = cm.ravel()\n",
    "\n",
    "    fpr, tpr, threshold = metrics.roc_curve(y_test, y_pred_prob)\n",
    "    roc_auc = metrics.auc(fpr, tpr)\n",
    "\n",
    "    precision, recall, thresholds = metrics.precision_recall_curve(\n",
    "        y_test, y_pred_prob)\n",
    "    pr_auc = metrics.auc(recall, precision)\n",
    "\n",
    "    if show_plot:\n",
    "\n",
    "        if labels is None:\n",
    "            labels = ['Negative', 'Positive']\n",
    "\n",
    "        N_SUBPLOTS = 3 if show_pr_curve else 2\n",
    "        PLOT_WIDTH = 15 if show_pr_curve else 12\n",
    "        PLOT_HEIGHT = 5 if show_pr_curve else 6\n",
    "\n",
    "        fig, ax = plt.subplots(\n",
    "            1, N_SUBPLOTS, figsize=(PLOT_WIDTH, PLOT_HEIGHT))\n",
    "        fig.suptitle('Performance Evaluation', fontsize=16)\n",
    "\n",
    "        sns.heatmap(cm, annot=True, fmt=\"d\", linewidths=.5, cmap='BuGn_r', square=True, cbar=False, ax=ax[0],\n",
    "                    annot_kws={\"ha\": 'center', \"va\": 'center'})\n",
    "        ax[0].set(xlabel='Predicted label',\n",
    "                  ylabel='Actual label', title='Confusion Matrix')\n",
    "        ax[0].xaxis.set_ticklabels(labels)\n",
    "        ax[0].yaxis.set_ticklabels(labels)\n",
    "\n",
    "        ax[1].plot(fpr, tpr, 'b-', label=f'ROC-AUC = {roc_auc:.2f}')\n",
    "        ax[1].set(xlabel='False Positive Rate',\n",
    "                  ylabel='True Positive Rate', title='ROC Curve')\n",
    "        ax[1].plot(fp/(fp+tn), tp/(tp+fn), 'ro',\n",
    "                   markersize=8, label='Decision Point')\n",
    "        ax[1].plot([0, 1], [0, 1], 'r--')\n",
    "        ax[1].legend(loc='lower right')\n",
    "\n",
    "        if show_pr_curve:\n",
    "\n",
    "            ax[2].plot(recall, precision, label=f'PR-AUC = {pr_auc:.2f}')\n",
    "            ax[2].set(xlabel='Recall', ylabel='Precision',\n",
    "                      title='Precision-Recall Curve')\n",
    "            ax[2].legend()\n",
    "\n",
    "#         print('#######################')\n",
    "#         print('Evaluation metrics ####')\n",
    "#         print('#######################')\n",
    "#         print(f'Accuracy: {metrics.accuracy_score(y_test, y_pred):.4f}')\n",
    "#         print(f'Precision: {metrics.precision_score(y_test, y_pred):.4f}')\n",
    "#         print(f'Recall (Sensitivity): {metrics.recall_score(y_test, y_pred):.4f}')\n",
    "#         print(f'Specificity: {(tn / (tn + fp)):.4f}')\n",
    "#         print(f'F1-Score: {metrics.f1_score(y_test, y_pred):.4f}')\n",
    "#         print(f\"Cohen's Kappa: {metrics.cohen_kappa_score(y_test, y_pred):.4f}\")\n",
    "\n",
    "    stats = {'accuracy': metrics.accuracy_score(y_test, y_pred),\n",
    "             'precision': metrics.precision_score(y_test, y_pred),\n",
    "             'recall': metrics.recall_score(y_test, y_pred),\n",
    "             'specificity': (tn / (tn + fp)),\n",
    "             'f1_score': metrics.f1_score(y_test, y_pred),\n",
    "             'cohens_kappa': metrics.cohen_kappa_score(y_test, y_pred),\n",
    "             'roc_auc': roc_auc,\n",
    "             'pr_auc': pr_auc}\n",
    "\n",
    "    return stats"
   ]
  },
  {
   "cell_type": "markdown",
   "metadata": {},
   "source": [
    "# Vamos de nuez"
   ]
  },
  {
   "cell_type": "code",
   "execution_count": 11,
   "metadata": {},
   "outputs": [
    {
     "name": "stdout",
     "output_type": "stream",
     "text": [
      "<class 'pandas.core.frame.DataFrame'>\n",
      "Int64Index: 30000 entries, 0 to 29999\n",
      "Data columns (total 24 columns):\n",
      " #   Column                      Non-Null Count  Dtype  \n",
      "---  ------                      --------------  -----  \n",
      " 0   limit_bal                   30000 non-null  int64  \n",
      " 1   sex                         29850 non-null  object \n",
      " 2   education                   29850 non-null  object \n",
      " 3   marriage                    29850 non-null  object \n",
      " 4   age                         29850 non-null  float64\n",
      " 5   payment_status_sep          30000 non-null  object \n",
      " 6   payment_status_aug          30000 non-null  object \n",
      " 7   payment_status_jul          30000 non-null  object \n",
      " 8   payment_status_jun          30000 non-null  object \n",
      " 9   payment_status_may          30000 non-null  object \n",
      " 10  payment_status_apr          30000 non-null  object \n",
      " 11  bill_statement_sep          30000 non-null  int64  \n",
      " 12  bill_statement_aug          30000 non-null  int64  \n",
      " 13  bill_statement_jul          30000 non-null  int64  \n",
      " 14  bill_statement_jun          30000 non-null  int64  \n",
      " 15  bill_statement_may          30000 non-null  int64  \n",
      " 16  bill_statement_apr          30000 non-null  int64  \n",
      " 17  previous_payment_sep        30000 non-null  int64  \n",
      " 18  previous_payment_aug        30000 non-null  int64  \n",
      " 19  previous_payment_jul        30000 non-null  int64  \n",
      " 20  previous_payment_jun        30000 non-null  int64  \n",
      " 21  previous_payment_may        30000 non-null  int64  \n",
      " 22  previous_payment_apr        30000 non-null  int64  \n",
      " 23  default_payment_next_month  30000 non-null  int64  \n",
      "dtypes: float64(1), int64(14), object(9)\n",
      "memory usage: 5.7+ MB\n"
     ]
    }
   ],
   "source": [
    "df = pd.read_csv('credit_card_default.csv', index_col=0,na_values='')\n",
    "df.info()"
   ]
  },
  {
   "cell_type": "code",
   "execution_count": 12,
   "metadata": {},
   "outputs": [
    {
     "data": {
      "text/html": [
       "<div>\n",
       "<style scoped>\n",
       "    .dataframe tbody tr th:only-of-type {\n",
       "        vertical-align: middle;\n",
       "    }\n",
       "\n",
       "    .dataframe tbody tr th {\n",
       "        vertical-align: top;\n",
       "    }\n",
       "\n",
       "    .dataframe thead th {\n",
       "        text-align: right;\n",
       "    }\n",
       "</style>\n",
       "<table border=\"1\" class=\"dataframe\">\n",
       "  <thead>\n",
       "    <tr style=\"text-align: right;\">\n",
       "      <th></th>\n",
       "      <th>limit_bal</th>\n",
       "      <th>sex</th>\n",
       "      <th>education</th>\n",
       "      <th>marriage</th>\n",
       "      <th>age</th>\n",
       "      <th>payment_status_sep</th>\n",
       "      <th>payment_status_aug</th>\n",
       "      <th>payment_status_jul</th>\n",
       "      <th>payment_status_jun</th>\n",
       "      <th>payment_status_may</th>\n",
       "      <th>...</th>\n",
       "      <th>bill_statement_jun</th>\n",
       "      <th>bill_statement_may</th>\n",
       "      <th>bill_statement_apr</th>\n",
       "      <th>previous_payment_sep</th>\n",
       "      <th>previous_payment_aug</th>\n",
       "      <th>previous_payment_jul</th>\n",
       "      <th>previous_payment_jun</th>\n",
       "      <th>previous_payment_may</th>\n",
       "      <th>previous_payment_apr</th>\n",
       "      <th>default_payment_next_month</th>\n",
       "    </tr>\n",
       "  </thead>\n",
       "  <tbody>\n",
       "    <tr>\n",
       "      <th>0</th>\n",
       "      <td>20000</td>\n",
       "      <td>Female</td>\n",
       "      <td>University</td>\n",
       "      <td>Married</td>\n",
       "      <td>24.0</td>\n",
       "      <td>Payment delayed 2 months</td>\n",
       "      <td>Payment delayed 2 months</td>\n",
       "      <td>Payed duly</td>\n",
       "      <td>Payed duly</td>\n",
       "      <td>Unknown</td>\n",
       "      <td>...</td>\n",
       "      <td>0</td>\n",
       "      <td>0</td>\n",
       "      <td>0</td>\n",
       "      <td>0</td>\n",
       "      <td>689</td>\n",
       "      <td>0</td>\n",
       "      <td>0</td>\n",
       "      <td>0</td>\n",
       "      <td>0</td>\n",
       "      <td>1</td>\n",
       "    </tr>\n",
       "    <tr>\n",
       "      <th>1</th>\n",
       "      <td>120000</td>\n",
       "      <td>Female</td>\n",
       "      <td>University</td>\n",
       "      <td>Single</td>\n",
       "      <td>26.0</td>\n",
       "      <td>Payed duly</td>\n",
       "      <td>Payment delayed 2 months</td>\n",
       "      <td>Unknown</td>\n",
       "      <td>Unknown</td>\n",
       "      <td>Unknown</td>\n",
       "      <td>...</td>\n",
       "      <td>3272</td>\n",
       "      <td>3455</td>\n",
       "      <td>3261</td>\n",
       "      <td>0</td>\n",
       "      <td>1000</td>\n",
       "      <td>1000</td>\n",
       "      <td>1000</td>\n",
       "      <td>0</td>\n",
       "      <td>2000</td>\n",
       "      <td>1</td>\n",
       "    </tr>\n",
       "    <tr>\n",
       "      <th>2</th>\n",
       "      <td>90000</td>\n",
       "      <td>Female</td>\n",
       "      <td>University</td>\n",
       "      <td>Single</td>\n",
       "      <td>34.0</td>\n",
       "      <td>Unknown</td>\n",
       "      <td>Unknown</td>\n",
       "      <td>Unknown</td>\n",
       "      <td>Unknown</td>\n",
       "      <td>Unknown</td>\n",
       "      <td>...</td>\n",
       "      <td>14331</td>\n",
       "      <td>14948</td>\n",
       "      <td>15549</td>\n",
       "      <td>1518</td>\n",
       "      <td>1500</td>\n",
       "      <td>1000</td>\n",
       "      <td>1000</td>\n",
       "      <td>1000</td>\n",
       "      <td>5000</td>\n",
       "      <td>0</td>\n",
       "    </tr>\n",
       "    <tr>\n",
       "      <th>3</th>\n",
       "      <td>50000</td>\n",
       "      <td>Female</td>\n",
       "      <td>University</td>\n",
       "      <td>Married</td>\n",
       "      <td>37.0</td>\n",
       "      <td>Unknown</td>\n",
       "      <td>Unknown</td>\n",
       "      <td>Unknown</td>\n",
       "      <td>Unknown</td>\n",
       "      <td>Unknown</td>\n",
       "      <td>...</td>\n",
       "      <td>28314</td>\n",
       "      <td>28959</td>\n",
       "      <td>29547</td>\n",
       "      <td>2000</td>\n",
       "      <td>2019</td>\n",
       "      <td>1200</td>\n",
       "      <td>1100</td>\n",
       "      <td>1069</td>\n",
       "      <td>1000</td>\n",
       "      <td>0</td>\n",
       "    </tr>\n",
       "    <tr>\n",
       "      <th>4</th>\n",
       "      <td>50000</td>\n",
       "      <td>Male</td>\n",
       "      <td>University</td>\n",
       "      <td>Married</td>\n",
       "      <td>57.0</td>\n",
       "      <td>Payed duly</td>\n",
       "      <td>Unknown</td>\n",
       "      <td>Payed duly</td>\n",
       "      <td>Unknown</td>\n",
       "      <td>Unknown</td>\n",
       "      <td>...</td>\n",
       "      <td>20940</td>\n",
       "      <td>19146</td>\n",
       "      <td>19131</td>\n",
       "      <td>2000</td>\n",
       "      <td>36681</td>\n",
       "      <td>10000</td>\n",
       "      <td>9000</td>\n",
       "      <td>689</td>\n",
       "      <td>679</td>\n",
       "      <td>0</td>\n",
       "    </tr>\n",
       "  </tbody>\n",
       "</table>\n",
       "<p>5 rows × 24 columns</p>\n",
       "</div>"
      ],
      "text/plain": [
       "   limit_bal     sex   education marriage   age        payment_status_sep  \\\n",
       "0      20000  Female  University  Married  24.0  Payment delayed 2 months   \n",
       "1     120000  Female  University   Single  26.0                Payed duly   \n",
       "2      90000  Female  University   Single  34.0                   Unknown   \n",
       "3      50000  Female  University  Married  37.0                   Unknown   \n",
       "4      50000    Male  University  Married  57.0                Payed duly   \n",
       "\n",
       "         payment_status_aug payment_status_jul payment_status_jun  \\\n",
       "0  Payment delayed 2 months         Payed duly         Payed duly   \n",
       "1  Payment delayed 2 months            Unknown            Unknown   \n",
       "2                   Unknown            Unknown            Unknown   \n",
       "3                   Unknown            Unknown            Unknown   \n",
       "4                   Unknown         Payed duly            Unknown   \n",
       "\n",
       "  payment_status_may  ... bill_statement_jun  bill_statement_may  \\\n",
       "0            Unknown  ...                  0                   0   \n",
       "1            Unknown  ...               3272                3455   \n",
       "2            Unknown  ...              14331               14948   \n",
       "3            Unknown  ...              28314               28959   \n",
       "4            Unknown  ...              20940               19146   \n",
       "\n",
       "   bill_statement_apr  previous_payment_sep  previous_payment_aug  \\\n",
       "0                   0                     0                   689   \n",
       "1                3261                     0                  1000   \n",
       "2               15549                  1518                  1500   \n",
       "3               29547                  2000                  2019   \n",
       "4               19131                  2000                 36681   \n",
       "\n",
       "   previous_payment_jul  previous_payment_jun  previous_payment_may  \\\n",
       "0                     0                     0                     0   \n",
       "1                  1000                  1000                     0   \n",
       "2                  1000                  1000                  1000   \n",
       "3                  1200                  1100                  1069   \n",
       "4                 10000                  9000                   689   \n",
       "\n",
       "   previous_payment_apr  default_payment_next_month  \n",
       "0                     0                           1  \n",
       "1                  2000                           1  \n",
       "2                  5000                           0  \n",
       "3                  1000                           0  \n",
       "4                   679                           0  \n",
       "\n",
       "[5 rows x 24 columns]"
      ]
     },
     "execution_count": 12,
     "metadata": {},
     "output_type": "execute_result"
    }
   ],
   "source": [
    "df.head()"
   ]
  },
  {
   "cell_type": "code",
   "execution_count": 13,
   "metadata": {},
   "outputs": [],
   "source": [
    "X = df.copy()\n",
    "y = X.pop('default_payment_next_month')"
   ]
  },
  {
   "cell_type": "code",
   "execution_count": 14,
   "metadata": {},
   "outputs": [],
   "source": [
    "X_train, X_test, y_train, y_test = train_test_split(X, y,test_size=0.2,stratify=y)"
   ]
  },
  {
   "cell_type": "raw",
   "metadata": {},
   "source": [
    "En la primera parte vimos que para tener lista la base a modelar con un árbol de decisión, hay que seguir una serie de pasos\n",
    "1.- Lectura y entendimiento de los datos\n",
    "2.- Dividir la base en entrenamiento y validación\n",
    "3.- Reemplazar valores missing\n",
    "4.- Reedefinir las variables categóricas\n",
    "y \n",
    "finalmente, aplicar el modelo de árboles.\n",
    "\n",
    "Esta serie de pasos, puede ser algo engorrosa. Para mitigar este proceso, se recomienda utilizar piplines.\n",
    "Al usar Pipelines, podemos aplicar secuencialmente una lista de transformaciones a los datos y luego entrenar un estimador (modelo) dado.\n",
    "\n",
    "\n",
    "https://scikit-learn.org/stable/modules/generated/sklearn.pipeline.Pipeline.html\n",
    "\n",
    "\n",
    "Lo primero que haremos, será definir cuáles son las variables numéricas (ojo, en general, no todas necesariemnte son de intervalo) y cuales son de tipo object."
   ]
  },
  {
   "cell_type": "code",
   "execution_count": 15,
   "metadata": {},
   "outputs": [],
   "source": [
    "num_features = X_train.select_dtypes(include='number').columns.to_list()"
   ]
  },
  {
   "cell_type": "code",
   "execution_count": 16,
   "metadata": {},
   "outputs": [
    {
     "data": {
      "text/plain": [
       "['limit_bal',\n",
       " 'age',\n",
       " 'bill_statement_sep',\n",
       " 'bill_statement_aug',\n",
       " 'bill_statement_jul',\n",
       " 'bill_statement_jun',\n",
       " 'bill_statement_may',\n",
       " 'bill_statement_apr',\n",
       " 'previous_payment_sep',\n",
       " 'previous_payment_aug',\n",
       " 'previous_payment_jul',\n",
       " 'previous_payment_jun',\n",
       " 'previous_payment_may',\n",
       " 'previous_payment_apr']"
      ]
     },
     "execution_count": 16,
     "metadata": {},
     "output_type": "execute_result"
    }
   ],
   "source": [
    "num_features"
   ]
  },
  {
   "cell_type": "code",
   "execution_count": 17,
   "metadata": {},
   "outputs": [],
   "source": [
    "cat_features = X_train.select_dtypes(include='object').columns.to_list()"
   ]
  },
  {
   "cell_type": "code",
   "execution_count": 18,
   "metadata": {},
   "outputs": [
    {
     "data": {
      "text/plain": [
       "['sex',\n",
       " 'education',\n",
       " 'marriage',\n",
       " 'payment_status_sep',\n",
       " 'payment_status_aug',\n",
       " 'payment_status_jul',\n",
       " 'payment_status_jun',\n",
       " 'payment_status_may',\n",
       " 'payment_status_apr']"
      ]
     },
     "execution_count": 18,
     "metadata": {},
     "output_type": "execute_result"
    }
   ],
   "source": [
    "cat_features"
   ]
  },
  {
   "cell_type": "raw",
   "metadata": {},
   "source": [
    "Definimos, cuál será el tratamiento para los missing de las variables numéricas"
   ]
  },
  {
   "cell_type": "code",
   "execution_count": 19,
   "metadata": {},
   "outputs": [],
   "source": [
    "num_pipeline = Pipeline(steps=[('imputer', SimpleImputer(strategy='median'))])"
   ]
  },
  {
   "cell_type": "raw",
   "metadata": {},
   "source": [
    "Definimos, cuál será el tratamiento paro los missings de las variables tipo object"
   ]
  },
  {
   "cell_type": "code",
   "execution_count": 20,
   "metadata": {},
   "outputs": [],
   "source": [
    "cat_list = [list(X_train[col].dropna().unique()) for col in cat_features]"
   ]
  },
  {
   "cell_type": "code",
   "execution_count": 21,
   "metadata": {},
   "outputs": [],
   "source": [
    "cat_pipeline = Pipeline(steps=[('imputer', SimpleImputer(strategy='most_frequent')),\n",
    "                               ('onehot', OneHotEncoder(categories=cat_list, sparse=False,\n",
    "                                        handle_unknown='error', drop='first'))])"
   ]
  },
  {
   "cell_type": "raw",
   "metadata": {},
   "source": [
    "Definimos, finalmente la primera transformación"
   ]
  },
  {
   "cell_type": "code",
   "execution_count": 25,
   "metadata": {},
   "outputs": [],
   "source": [
    "preprocessor = ColumnTransformer(transformers=[\n",
    "               ('numerical', num_pipeline, num_features),\n",
    "               ('categorical', cat_pipeline, cat_features)],\n",
    "               remainder='drop')\n",
    "#El remainder=drop es para eliminar la columna que no se le aplicó ninguna transformación"
   ]
  },
  {
   "cell_type": "raw",
   "metadata": {},
   "source": [
    "Definimos, el segurno paso, que sería aplicar el árbol de decisión"
   ]
  },
  {
   "cell_type": "code",
   "execution_count": 24,
   "metadata": {},
   "outputs": [],
   "source": [
    "dec_tree = DecisionTreeClassifier(random_state=42)"
   ]
  },
  {
   "cell_type": "code",
   "execution_count": 26,
   "metadata": {},
   "outputs": [],
   "source": [
    "tree_pipeline = Pipeline(steps=[('preprocessor', preprocessor),('classifier', dec_tree)])"
   ]
  },
  {
   "cell_type": "raw",
   "metadata": {},
   "source": [
    "Apliquemos las transformaciones y el modelo de clasificación"
   ]
  },
  {
   "cell_type": "code",
   "execution_count": 27,
   "metadata": {},
   "outputs": [
    {
     "data": {
      "text/plain": [
       "Pipeline(memory=None,\n",
       "         steps=[('preprocessor',\n",
       "                 ColumnTransformer(n_jobs=None, remainder='drop',\n",
       "                                   sparse_threshold=0.3,\n",
       "                                   transformer_weights=None,\n",
       "                                   transformers=[('numerical',\n",
       "                                                  Pipeline(memory=None,\n",
       "                                                           steps=[('imputer',\n",
       "                                                                   SimpleImputer(add_indicator=False,\n",
       "                                                                                 copy=True,\n",
       "                                                                                 fill_value=None,\n",
       "                                                                                 missing_values=nan,\n",
       "                                                                                 strategy='median',\n",
       "                                                                                 verbose=0))],\n",
       "                                                           verbose=False),\n",
       "                                                  ['limit_bal', 'age',\n",
       "                                                   'bi...\n",
       "                                                   'payment_status_apr'])],\n",
       "                                   verbose=False)),\n",
       "                ('classifier',\n",
       "                 DecisionTreeClassifier(ccp_alpha=0.0, class_weight=None,\n",
       "                                        criterion='gini', max_depth=None,\n",
       "                                        max_features=None, max_leaf_nodes=None,\n",
       "                                        min_impurity_decrease=0.0,\n",
       "                                        min_impurity_split=None,\n",
       "                                        min_samples_leaf=1, min_samples_split=2,\n",
       "                                        min_weight_fraction_leaf=0.0,\n",
       "                                        presort='deprecated', random_state=42,\n",
       "                                        splitter='best'))],\n",
       "         verbose=False)"
      ]
     },
     "execution_count": 27,
     "metadata": {},
     "output_type": "execute_result"
    }
   ],
   "source": [
    "tree_pipeline.fit(X_train, y_train)"
   ]
  },
  {
   "cell_type": "code",
   "execution_count": 28,
   "metadata": {
    "scrolled": false
   },
   "outputs": [
    {
     "data": {
      "image/png": "[encoded data removed]",
      "text/plain": [
       "<Figure size 864x432 with 2 Axes>"
      ]
     },
     "metadata": {
      "needs_background": "light"
     },
     "output_type": "display_data"
    }
   ],
   "source": [
    "LABELS = ['Bueno', 'Malo']\n",
    "tree_perf = performance_evaluation_report(tree_pipeline, X_test,y_test, labels=LABELS,show_plot=True)"
   ]
  },
  {
   "cell_type": "raw",
   "metadata": {},
   "source": [
    "En lo anterior, aplicamos básicamente el tratamiento de los missings como un paso en el pipline, sin embargo, se pueden hacer muchas otras cosas, obviamente:\n",
    "\n",
    "1.- Reescalamiento o estandarización de variables, esto es porque normalmente las variables no están en la misma escala, esto puede introducir sesgo en el modelo. Por ejemplo, para los modelos de regresión o K-vecinos, se recomienda considerar este paso. En general, los métodos basados en árboles de clasificación no requieren considerar el escalamiento. En scikit - learn algunas opciones populares son: StandardScaler y MinMaxScaler.\n",
    "\n",
    "2.- Discretización de varibles continuas (esto lo hicimos en nuestra regresión logística, por qué no hicimos lo de la escala en la regresión?).\n",
    "\n",
    "3.- Transformación eliminado Outliers: Durante el análisis exploratorio de Datos (que por cierto en nuestro ejemplo no hemos realizado alguno, lo pasamos por el arco del triunfo), se pueden detectar algunas inconsistencia de los datos o simplemente, hay un dato atípico, imagínense tener en la base de ingresos a Laura, mientras en la UNAM nos pagan dos pesos, a la laura 1 millón. Este tipo de cuestiones, pueden sesgar el modelo y entonces debemos tratarlos de alguna manera, es lo que se recomienda.\n",
    "\n",
    "En lo que sigue, eliminaremos los outiliers de la base de datos para tener un modelo más robusto. Crearemos una función que detecte y modifique los valores atípicos."
   ]
  },
  {
   "cell_type": "code",
   "execution_count": 29,
   "metadata": {},
   "outputs": [],
   "source": [
    "from sklearn.base import BaseEstimator, TransformerMixin"
   ]
  },
  {
   "cell_type": "code",
   "execution_count": 30,
   "metadata": {},
   "outputs": [],
   "source": [
    "class OutlierRemover(BaseEstimator, TransformerMixin):\n",
    "    def __init__(self, n_std=3):\n",
    "        self.n_std = n_std\n",
    "    \n",
    "    def fit(self, X, y = None):\n",
    "        if np.isnan(X).any(axis=None):\n",
    "            raise ValueError('''There are missing values in the array! \n",
    "                                Please remove them.''')\n",
    "\n",
    "        mean_vec = np.mean(X, axis=0)\n",
    "        std_vec = np.std(X, axis=0)\n",
    "        \n",
    "        self.upper_band_ = mean_vec + self.n_std * std_vec\n",
    "        self.lower_band_ = mean_vec - self.n_std * std_vec\n",
    "        self.n_features_ = len(self.upper_band_)\n",
    "        \n",
    "        return self \n",
    "    \n",
    "    def transform(self, X, y = None):\n",
    "        X_copy = pd.DataFrame(X.copy())\n",
    "        \n",
    "        upper_band = np.repeat(\n",
    "            self.upper_band_.reshape(self.n_features_, -1), \n",
    "            len(X_copy), \n",
    "            axis=1).transpose()\n",
    "        lower_band = np.repeat(\n",
    "            self.lower_band_.reshape(self.n_features_, -1), \n",
    "            len(X_copy), \n",
    "            axis=1).transpose()\n",
    "        \n",
    "        X_copy[X_copy >= upper_band] = upper_band\n",
    "        X_copy[X_copy <= lower_band] = lower_band\n",
    "        \n",
    "        return X_copy.values"
   ]
  },
  {
   "cell_type": "raw",
   "metadata": {},
   "source": [
    "Complementamos el paso de pipline para las variables numéricas"
   ]
  },
  {
   "cell_type": "code",
   "execution_count": 31,
   "metadata": {},
   "outputs": [],
   "source": [
    "num_pipeline = Pipeline(steps=[\n",
    "    ('imputer', SimpleImputer(strategy='median')),\n",
    "    ('outliers', OutlierRemover())])"
   ]
  },
  {
   "cell_type": "code",
   "execution_count": 32,
   "metadata": {},
   "outputs": [
    {
     "data": {
      "image/png": "[encoded data removed]",
      "text/plain": [
       "<Figure size 864x432 with 2 Axes>"
      ]
     },
     "metadata": {
      "needs_background": "light"
     },
     "output_type": "display_data"
    }
   ],
   "source": [
    "preprocessor = ColumnTransformer(transformers=[('numerical', num_pipeline, num_features),\n",
    "                                               ('categorical', cat_pipeline, cat_features)],\n",
    "                                 remainder='drop')\n",
    "\n",
    "dec_tree = DecisionTreeClassifier(random_state=42)\n",
    "\n",
    "tree_pipeline = Pipeline(steps=[('preprocessor', preprocessor),\n",
    "                                ('classifier', dec_tree)])\n",
    "\n",
    "tree_pipeline.fit(X_train, y_train)\n",
    "\n",
    "tree_perf = performance_evaluation_report(tree_pipeline, X_test, \n",
    "                                          y_test, labels=LABELS, \n",
    "                                          show_plot=True)\n",
    "\n",
    "plt.tight_layout()\n",
    "# plt.savefig('images/ch8_im18.png')\n",
    "plt.show()"
   ]
  },
  {
   "cell_type": "code",
   "execution_count": 34,
   "metadata": {},
   "outputs": [],
   "source": [
    "from sklearn.model_selection import (GridSearchCV, cross_val_score,\n",
    "                                                 RandomizedSearchCV,\n",
    "                                                 cross_validate,\n",
    "                                                 StratifiedKFold)\n"
   ]
  },
  {
   "cell_type": "code",
   "execution_count": 35,
   "metadata": {},
   "outputs": [],
   "source": [
    "k_fold = StratifiedKFold(5, shuffle=True, random_state=42)"
   ]
  },
  {
   "cell_type": "code",
   "execution_count": 36,
   "metadata": {},
   "outputs": [
    {
     "data": {
      "text/plain": [
       "array([0.72708333, 0.72729167, 0.72104167, 0.72208333, 0.726875  ])"
      ]
     },
     "execution_count": 36,
     "metadata": {},
     "output_type": "execute_result"
    }
   ],
   "source": [
    "cross_val_score(tree_pipeline, X_train, y_train, cv=k_fold)"
   ]
  },
  {
   "cell_type": "code",
   "execution_count": 37,
   "metadata": {},
   "outputs": [
    {
     "data": {
      "text/plain": [
       "{'fit_time': array([1.0779748 , 1.0487318 , 1.02553105, 1.01782799, 1.02368307]),\n",
       " 'score_time': array([0.0596962 , 0.05258703, 0.05512381, 0.05356693, 0.05418777]),\n",
       " 'test_accuracy': array([0.72708333, 0.72729167, 0.72104167, 0.72208333, 0.726875  ]),\n",
       " 'test_precision': array([0.39404255, 0.38338055, 0.38091144, 0.3783542 , 0.38650866]),\n",
       " 'test_recall': array([0.43638077, 0.38229755, 0.41713748, 0.39830508, 0.3992467 ]),\n",
       " 'test_roc_auc': array([0.62336394, 0.60363735, 0.61218259, 0.60618839, 0.60944124])}"
      ]
     },
     "execution_count": 37,
     "metadata": {},
     "output_type": "execute_result"
    }
   ],
   "source": [
    "cross_validate(tree_pipeline, X_train, y_train, cv=k_fold,\n",
    "                           scoring=['accuracy', 'precision', 'recall','roc_auc'])"
   ]
  },
  {
   "cell_type": "code",
   "execution_count": 39,
   "metadata": {},
   "outputs": [],
   "source": [
    "param_grid = {'classifier__criterion': ['entropy', 'gini'],\n",
    "               'classifier__max_depth': range(3, 11),\n",
    "               'classifier__min_samples_leaf': range(2, 11)}\n"
   ]
  },
  {
   "cell_type": "code",
   "execution_count": 40,
   "metadata": {
    "scrolled": false
   },
   "outputs": [
    {
     "name": "stdout",
     "output_type": "stream",
     "text": [
      "Fitting 5 folds for each of 144 candidates, totalling 720 fits\n"
     ]
    },
    {
     "name": "stderr",
     "output_type": "stream",
     "text": [
      "[Parallel(n_jobs=-1)]: Using backend LokyBackend with 12 concurrent workers.\n",
      "[Parallel(n_jobs=-1)]: Done  26 tasks      | elapsed:    7.5s\n",
      "[Parallel(n_jobs=-1)]: Done 176 tasks      | elapsed:   31.1s\n",
      "[Parallel(n_jobs=-1)]: Done 426 tasks      | elapsed:  1.2min\n",
      "[Parallel(n_jobs=-1)]: Done 720 out of 720 | elapsed:  2.1min finished\n"
     ]
    },
    {
     "data": {
      "text/plain": [
       "GridSearchCV(cv=StratifiedKFold(n_splits=5, random_state=42, shuffle=True),\n",
       "             error_score=nan,\n",
       "             estimator=Pipeline(memory=None,\n",
       "                                steps=[('preprocessor',\n",
       "                                        ColumnTransformer(n_jobs=None,\n",
       "                                                          remainder='drop',\n",
       "                                                          sparse_threshold=0.3,\n",
       "                                                          transformer_weights=None,\n",
       "                                                          transformers=[('numerical',\n",
       "                                                                         Pipeline(memory=None,\n",
       "                                                                                  steps=[('imputer',\n",
       "                                                                                          SimpleImputer(add_indicator=False,\n",
       "                                                                                                        copy=True,\n",
       "                                                                                                        fill...\n",
       "                                                               min_samples_split=2,\n",
       "                                                               min_weight_fraction_leaf=0.0,\n",
       "                                                               presort='deprecated',\n",
       "                                                               random_state=42,\n",
       "                                                               splitter='best'))],\n",
       "                                verbose=False),\n",
       "             iid='deprecated', n_jobs=-1,\n",
       "             param_grid={'classifier__criterion': ['entropy', 'gini'],\n",
       "                         'classifier__max_depth': range(3, 11),\n",
       "                         'classifier__min_samples_leaf': range(2, 11)},\n",
       "             pre_dispatch='2*n_jobs', refit=True, return_train_score=False,\n",
       "             scoring='recall', verbose=1)"
      ]
     },
     "execution_count": 40,
     "metadata": {},
     "output_type": "execute_result"
    }
   ],
   "source": [
    "classifier_gs = GridSearchCV(tree_pipeline, param_grid,scoring='recall',cv=k_fold, n_jobs=-1, verbose=1)\n",
    "classifier_gs.fit(X_train, y_train)\n",
    "#print(f'Best parameters: {classifier_gs.best_params_}')\n",
    "#print(f'Recall (Training set): {classifier_gs.best_score_:.4f}')\n",
    "#print(f'Recall (Test set): {metrics.recall_score(y_test,classifier_gs.predict(X_test)):.4f}')"
   ]
  },
  {
   "cell_type": "code",
   "execution_count": 41,
   "metadata": {},
   "outputs": [
    {
     "name": "stdout",
     "output_type": "stream",
     "text": [
      "Best parameters: {'classifier__criterion': 'gini', 'classifier__max_depth': 10, 'classifier__min_samples_leaf': 10}\n",
      "Recall (Training set): 0.3481\n",
      "Recall (Test set): 0.3549\n"
     ]
    }
   ],
   "source": [
    "print(f'Best parameters: {classifier_gs.best_params_}') \n",
    "print(f'Recall (Training set): {classifier_gs.best_score_:.4f}') \n",
    "print(f'Recall (Test set): {metrics.recall_score(y_test, classifier_gs.predict(X_test)):.4f}')"
   ]
  },
  {
   "cell_type": "code",
   "execution_count": 42,
   "metadata": {},
   "outputs": [
    {
     "data": {
      "image/png": "[encoded data removed]",
      "text/plain": [
       "<Figure size 864x432 with 2 Axes>"
      ]
     },
     "metadata": {
      "needs_background": "light"
     },
     "output_type": "display_data"
    }
   ],
   "source": [
    "LABELS = ['No Default', 'Default']\n",
    "tree_gs_perf = performance_evaluation_report(classifier_gs, X_test, \n",
    "                                             y_test, labels=LABELS, \n",
    "                                             show_plot=True)\n",
    "\n",
    "plt.tight_layout()\n",
    "#plt.savefig('images/ch8_im20.png')\n",
    "plt.show()"
   ]
  },
  {
   "cell_type": "code",
   "execution_count": 43,
   "metadata": {},
   "outputs": [],
   "source": [
    "from sklearn.metrics import roc_auc_score, roc_curve, mean_squared_error, precision_recall_curve,  accuracy_score"
   ]
  },
  {
   "cell_type": "code",
   "execution_count": 44,
   "metadata": {},
   "outputs": [
    {
     "name": "stdout",
     "output_type": "stream",
     "text": [
      "1 2 3 4 5 6 7 8 9 10 11 12 13 14 15 16 17 18 19 20 21 22 23 24 25 "
     ]
    }
   ],
   "source": [
    "train_scores, val_scores, leaves = {}, {}, {}\n",
    "for max_depth in range(1, 26):\n",
    "    print(max_depth, end=' ', flush=True)\n",
    "    reg_tree = DecisionTreeClassifier(criterion='gini',\n",
    "                                          max_depth=max_depth,\n",
    "                                          min_samples_leaf=10,\n",
    "                                          random_state=42)\n",
    "    tree_pipeline = Pipeline(steps=[('preprocessor', preprocessor),('classifier', reg_tree)])\n",
    "    train_scores[max_depth], val_scores[max_depth], leaves[max_depth] = [],[], []\n",
    "    for train_idx, test_idx in k_fold.split(X_train,y_train):\n",
    "        X_t, y_t,  = X_train.iloc[train_idx], y_train.iloc[train_idx]\n",
    "        X_te, y_te = X_train.iloc[test_idx], y_train.iloc[test_idx]\n",
    "        tree_pipeline.fit(X_t, y_t)\n",
    "        train_pred = tree_pipeline.predict_proba(X=X_t)[:, 1]\n",
    "        train_score = roc_auc_score(y_score=train_pred, y_true=y_t)\n",
    "        #print(train_score)\n",
    "        train_scores[max_depth].append(train_score)\n",
    "\n",
    "        test_pred = tree_pipeline.predict_proba(X=X_te)[:, 1]\n",
    "        val_score = roc_auc_score(y_score=test_pred, y_true=y_te)\n",
    "        val_scores[max_depth].append(val_score)  \n",
    "        #print(val_score)\n",
    "        leaves[max_depth].append(max_depth)\n",
    "        #reg_tree.fit(X=X_t, y=y_t)\n",
    "\n",
    "        \n",
    "        #train_scores[max_depth].append(train_score)\n",
    "\n",
    "        #test_pred = reg_tree.predict(X=X_test)\n",
    "        #val_score = np.sqrt(mean_squared_error(\n",
    "        #    y_pred=test_pred, y_true=y_test))\n",
    "        #val_scores[max_depth].append(val_score)\n",
    "        #leaves[max_depth].append(get_leaves_count(reg_tree))"
   ]
  },
  {
   "cell_type": "code",
   "execution_count": 45,
   "metadata": {},
   "outputs": [],
   "source": [
    "clf_train_scores = pd.DataFrame(train_scores)\n",
    "clf_valid_scores = pd.DataFrame(val_scores)\n",
    "bd_leaves = pd.DataFrame(leaves)"
   ]
  },
  {
   "cell_type": "code",
   "execution_count": 46,
   "metadata": {},
   "outputs": [
    {
     "data": {
      "text/plain": [
       "{1: [1, 1, 1, 1, 1],\n",
       " 2: [2, 2, 2, 2, 2],\n",
       " 3: [3, 3, 3, 3, 3],\n",
       " 4: [4, 4, 4, 4, 4],\n",
       " 5: [5, 5, 5, 5, 5],\n",
       " 6: [6, 6, 6, 6, 6],\n",
       " 7: [7, 7, 7, 7, 7],\n",
       " 8: [8, 8, 8, 8, 8],\n",
       " 9: [9, 9, 9, 9, 9],\n",
       " 10: [10, 10, 10, 10, 10],\n",
       " 11: [11, 11, 11, 11, 11],\n",
       " 12: [12, 12, 12, 12, 12],\n",
       " 13: [13, 13, 13, 13, 13],\n",
       " 14: [14, 14, 14, 14, 14],\n",
       " 15: [15, 15, 15, 15, 15],\n",
       " 16: [16, 16, 16, 16, 16],\n",
       " 17: [17, 17, 17, 17, 17],\n",
       " 18: [18, 18, 18, 18, 18],\n",
       " 19: [19, 19, 19, 19, 19],\n",
       " 20: [20, 20, 20, 20, 20],\n",
       " 21: [21, 21, 21, 21, 21],\n",
       " 22: [22, 22, 22, 22, 22],\n",
       " 23: [23, 23, 23, 23, 23],\n",
       " 24: [24, 24, 24, 24, 24],\n",
       " 25: [25, 25, 25, 25, 25]}"
      ]
     },
     "execution_count": 46,
     "metadata": {},
     "output_type": "execute_result"
    }
   ],
   "source": [
    "leaves"
   ]
  },
  {
   "cell_type": "code",
   "execution_count": 47,
   "metadata": {},
   "outputs": [
    {
     "data": {
      "text/html": [
       "<div>\n",
       "<style scoped>\n",
       "    .dataframe tbody tr th:only-of-type {\n",
       "        vertical-align: middle;\n",
       "    }\n",
       "\n",
       "    .dataframe tbody tr th {\n",
       "        vertical-align: top;\n",
       "    }\n",
       "\n",
       "    .dataframe thead th {\n",
       "        text-align: right;\n",
       "    }\n",
       "</style>\n",
       "<table border=\"1\" class=\"dataframe\">\n",
       "  <thead>\n",
       "    <tr style=\"text-align: right;\">\n",
       "      <th></th>\n",
       "      <th>1</th>\n",
       "      <th>2</th>\n",
       "      <th>3</th>\n",
       "      <th>4</th>\n",
       "      <th>5</th>\n",
       "      <th>6</th>\n",
       "      <th>7</th>\n",
       "      <th>8</th>\n",
       "      <th>9</th>\n",
       "      <th>10</th>\n",
       "      <th>...</th>\n",
       "      <th>16</th>\n",
       "      <th>17</th>\n",
       "      <th>18</th>\n",
       "      <th>19</th>\n",
       "      <th>20</th>\n",
       "      <th>21</th>\n",
       "      <th>22</th>\n",
       "      <th>23</th>\n",
       "      <th>24</th>\n",
       "      <th>25</th>\n",
       "    </tr>\n",
       "  </thead>\n",
       "  <tbody>\n",
       "    <tr>\n",
       "      <th>0</th>\n",
       "      <td>0.616526</td>\n",
       "      <td>0.674672</td>\n",
       "      <td>0.717886</td>\n",
       "      <td>0.728713</td>\n",
       "      <td>0.745723</td>\n",
       "      <td>0.760052</td>\n",
       "      <td>0.772726</td>\n",
       "      <td>0.784942</td>\n",
       "      <td>0.797743</td>\n",
       "      <td>0.812832</td>\n",
       "      <td>...</td>\n",
       "      <td>0.899038</td>\n",
       "      <td>0.905759</td>\n",
       "      <td>0.912412</td>\n",
       "      <td>0.917169</td>\n",
       "      <td>0.920347</td>\n",
       "      <td>0.922089</td>\n",
       "      <td>0.923303</td>\n",
       "      <td>0.923882</td>\n",
       "      <td>0.924273</td>\n",
       "      <td>0.924486</td>\n",
       "    </tr>\n",
       "    <tr>\n",
       "      <th>1</th>\n",
       "      <td>0.621621</td>\n",
       "      <td>0.677423</td>\n",
       "      <td>0.721881</td>\n",
       "      <td>0.729092</td>\n",
       "      <td>0.749342</td>\n",
       "      <td>0.762563</td>\n",
       "      <td>0.772235</td>\n",
       "      <td>0.784775</td>\n",
       "      <td>0.797824</td>\n",
       "      <td>0.811851</td>\n",
       "      <td>...</td>\n",
       "      <td>0.893911</td>\n",
       "      <td>0.903533</td>\n",
       "      <td>0.909233</td>\n",
       "      <td>0.913371</td>\n",
       "      <td>0.916580</td>\n",
       "      <td>0.918530</td>\n",
       "      <td>0.920615</td>\n",
       "      <td>0.921993</td>\n",
       "      <td>0.923001</td>\n",
       "      <td>0.924089</td>\n",
       "    </tr>\n",
       "    <tr>\n",
       "      <th>2</th>\n",
       "      <td>0.619550</td>\n",
       "      <td>0.677215</td>\n",
       "      <td>0.721086</td>\n",
       "      <td>0.729500</td>\n",
       "      <td>0.753960</td>\n",
       "      <td>0.767417</td>\n",
       "      <td>0.777693</td>\n",
       "      <td>0.788301</td>\n",
       "      <td>0.802172</td>\n",
       "      <td>0.818622</td>\n",
       "      <td>...</td>\n",
       "      <td>0.899100</td>\n",
       "      <td>0.906505</td>\n",
       "      <td>0.911016</td>\n",
       "      <td>0.915597</td>\n",
       "      <td>0.918568</td>\n",
       "      <td>0.920800</td>\n",
       "      <td>0.922513</td>\n",
       "      <td>0.923626</td>\n",
       "      <td>0.924896</td>\n",
       "      <td>0.925634</td>\n",
       "    </tr>\n",
       "    <tr>\n",
       "      <th>3</th>\n",
       "      <td>0.619112</td>\n",
       "      <td>0.673916</td>\n",
       "      <td>0.687106</td>\n",
       "      <td>0.731430</td>\n",
       "      <td>0.748717</td>\n",
       "      <td>0.759297</td>\n",
       "      <td>0.772330</td>\n",
       "      <td>0.785826</td>\n",
       "      <td>0.798992</td>\n",
       "      <td>0.813268</td>\n",
       "      <td>...</td>\n",
       "      <td>0.897722</td>\n",
       "      <td>0.905042</td>\n",
       "      <td>0.910603</td>\n",
       "      <td>0.914347</td>\n",
       "      <td>0.917212</td>\n",
       "      <td>0.920544</td>\n",
       "      <td>0.921947</td>\n",
       "      <td>0.923149</td>\n",
       "      <td>0.923888</td>\n",
       "      <td>0.925005</td>\n",
       "    </tr>\n",
       "    <tr>\n",
       "      <th>4</th>\n",
       "      <td>0.619397</td>\n",
       "      <td>0.675640</td>\n",
       "      <td>0.721777</td>\n",
       "      <td>0.729497</td>\n",
       "      <td>0.750833</td>\n",
       "      <td>0.764101</td>\n",
       "      <td>0.775336</td>\n",
       "      <td>0.786854</td>\n",
       "      <td>0.801185</td>\n",
       "      <td>0.817169</td>\n",
       "      <td>...</td>\n",
       "      <td>0.894107</td>\n",
       "      <td>0.901285</td>\n",
       "      <td>0.907571</td>\n",
       "      <td>0.911325</td>\n",
       "      <td>0.914731</td>\n",
       "      <td>0.919283</td>\n",
       "      <td>0.921924</td>\n",
       "      <td>0.923769</td>\n",
       "      <td>0.924668</td>\n",
       "      <td>0.924893</td>\n",
       "    </tr>\n",
       "  </tbody>\n",
       "</table>\n",
       "<p>5 rows × 25 columns</p>\n",
       "</div>"
      ],
      "text/plain": [
       "         1         2         3         4         5         6         7   \\\n",
       "0  0.616526  0.674672  0.717886  0.728713  0.745723  0.760052  0.772726   \n",
       "1  0.621621  0.677423  0.721881  0.729092  0.749342  0.762563  0.772235   \n",
       "2  0.619550  0.677215  0.721086  0.729500  0.753960  0.767417  0.777693   \n",
       "3  0.619112  0.673916  0.687106  0.731430  0.748717  0.759297  0.772330   \n",
       "4  0.619397  0.675640  0.721777  0.729497  0.750833  0.764101  0.775336   \n",
       "\n",
       "         8         9         10  ...        16        17        18        19  \\\n",
       "0  0.784942  0.797743  0.812832  ...  0.899038  0.905759  0.912412  0.917169   \n",
       "1  0.784775  0.797824  0.811851  ...  0.893911  0.903533  0.909233  0.913371   \n",
       "2  0.788301  0.802172  0.818622  ...  0.899100  0.906505  0.911016  0.915597   \n",
       "3  0.785826  0.798992  0.813268  ...  0.897722  0.905042  0.910603  0.914347   \n",
       "4  0.786854  0.801185  0.817169  ...  0.894107  0.901285  0.907571  0.911325   \n",
       "\n",
       "         20        21        22        23        24        25  \n",
       "0  0.920347  0.922089  0.923303  0.923882  0.924273  0.924486  \n",
       "1  0.916580  0.918530  0.920615  0.921993  0.923001  0.924089  \n",
       "2  0.918568  0.920800  0.922513  0.923626  0.924896  0.925634  \n",
       "3  0.917212  0.920544  0.921947  0.923149  0.923888  0.925005  \n",
       "4  0.914731  0.919283  0.921924  0.923769  0.924668  0.924893  \n",
       "\n",
       "[5 rows x 25 columns]"
      ]
     },
     "execution_count": 47,
     "metadata": {},
     "output_type": "execute_result"
    }
   ],
   "source": [
    "clf_train_scores"
   ]
  },
  {
   "cell_type": "code",
   "execution_count": 48,
   "metadata": {},
   "outputs": [
    {
     "data": {
      "text/html": [
       "<div>\n",
       "<style scoped>\n",
       "    .dataframe tbody tr th:only-of-type {\n",
       "        vertical-align: middle;\n",
       "    }\n",
       "\n",
       "    .dataframe tbody tr th {\n",
       "        vertical-align: top;\n",
       "    }\n",
       "\n",
       "    .dataframe thead th {\n",
       "        text-align: right;\n",
       "    }\n",
       "</style>\n",
       "<table border=\"1\" class=\"dataframe\">\n",
       "  <thead>\n",
       "    <tr style=\"text-align: right;\">\n",
       "      <th></th>\n",
       "      <th>1</th>\n",
       "      <th>2</th>\n",
       "      <th>3</th>\n",
       "      <th>4</th>\n",
       "      <th>5</th>\n",
       "      <th>6</th>\n",
       "      <th>7</th>\n",
       "      <th>8</th>\n",
       "      <th>9</th>\n",
       "      <th>10</th>\n",
       "      <th>...</th>\n",
       "      <th>16</th>\n",
       "      <th>17</th>\n",
       "      <th>18</th>\n",
       "      <th>19</th>\n",
       "      <th>20</th>\n",
       "      <th>21</th>\n",
       "      <th>22</th>\n",
       "      <th>23</th>\n",
       "      <th>24</th>\n",
       "      <th>25</th>\n",
       "    </tr>\n",
       "  </thead>\n",
       "  <tbody>\n",
       "    <tr>\n",
       "      <th>0</th>\n",
       "      <td>0.630112</td>\n",
       "      <td>0.680122</td>\n",
       "      <td>0.726709</td>\n",
       "      <td>0.737603</td>\n",
       "      <td>0.746545</td>\n",
       "      <td>0.758349</td>\n",
       "      <td>0.755837</td>\n",
       "      <td>0.753497</td>\n",
       "      <td>0.746469</td>\n",
       "      <td>0.745900</td>\n",
       "      <td>...</td>\n",
       "      <td>0.697432</td>\n",
       "      <td>0.701422</td>\n",
       "      <td>0.701390</td>\n",
       "      <td>0.701636</td>\n",
       "      <td>0.698544</td>\n",
       "      <td>0.702092</td>\n",
       "      <td>0.701407</td>\n",
       "      <td>0.703854</td>\n",
       "      <td>0.701838</td>\n",
       "      <td>0.701266</td>\n",
       "    </tr>\n",
       "    <tr>\n",
       "      <th>1</th>\n",
       "      <td>0.609724</td>\n",
       "      <td>0.669150</td>\n",
       "      <td>0.709407</td>\n",
       "      <td>0.717539</td>\n",
       "      <td>0.736693</td>\n",
       "      <td>0.745297</td>\n",
       "      <td>0.748205</td>\n",
       "      <td>0.745218</td>\n",
       "      <td>0.739670</td>\n",
       "      <td>0.734015</td>\n",
       "      <td>...</td>\n",
       "      <td>0.695712</td>\n",
       "      <td>0.696180</td>\n",
       "      <td>0.692199</td>\n",
       "      <td>0.684912</td>\n",
       "      <td>0.690008</td>\n",
       "      <td>0.686909</td>\n",
       "      <td>0.693496</td>\n",
       "      <td>0.691013</td>\n",
       "      <td>0.689329</td>\n",
       "      <td>0.690327</td>\n",
       "    </tr>\n",
       "    <tr>\n",
       "      <th>2</th>\n",
       "      <td>0.618006</td>\n",
       "      <td>0.669928</td>\n",
       "      <td>0.712341</td>\n",
       "      <td>0.715926</td>\n",
       "      <td>0.735347</td>\n",
       "      <td>0.738783</td>\n",
       "      <td>0.741708</td>\n",
       "      <td>0.739696</td>\n",
       "      <td>0.739161</td>\n",
       "      <td>0.739343</td>\n",
       "      <td>...</td>\n",
       "      <td>0.689668</td>\n",
       "      <td>0.680955</td>\n",
       "      <td>0.677786</td>\n",
       "      <td>0.674598</td>\n",
       "      <td>0.680142</td>\n",
       "      <td>0.676587</td>\n",
       "      <td>0.677344</td>\n",
       "      <td>0.681193</td>\n",
       "      <td>0.680637</td>\n",
       "      <td>0.679990</td>\n",
       "    </tr>\n",
       "    <tr>\n",
       "      <th>3</th>\n",
       "      <td>0.619756</td>\n",
       "      <td>0.683142</td>\n",
       "      <td>0.691183</td>\n",
       "      <td>0.727303</td>\n",
       "      <td>0.737644</td>\n",
       "      <td>0.743645</td>\n",
       "      <td>0.751718</td>\n",
       "      <td>0.750650</td>\n",
       "      <td>0.752090</td>\n",
       "      <td>0.739414</td>\n",
       "      <td>...</td>\n",
       "      <td>0.694562</td>\n",
       "      <td>0.692349</td>\n",
       "      <td>0.691201</td>\n",
       "      <td>0.687712</td>\n",
       "      <td>0.689424</td>\n",
       "      <td>0.694517</td>\n",
       "      <td>0.693203</td>\n",
       "      <td>0.695362</td>\n",
       "      <td>0.696236</td>\n",
       "      <td>0.694898</td>\n",
       "    </tr>\n",
       "    <tr>\n",
       "      <th>4</th>\n",
       "      <td>0.618616</td>\n",
       "      <td>0.676006</td>\n",
       "      <td>0.717180</td>\n",
       "      <td>0.721476</td>\n",
       "      <td>0.729886</td>\n",
       "      <td>0.737199</td>\n",
       "      <td>0.738693</td>\n",
       "      <td>0.737329</td>\n",
       "      <td>0.731489</td>\n",
       "      <td>0.727794</td>\n",
       "      <td>...</td>\n",
       "      <td>0.690799</td>\n",
       "      <td>0.696787</td>\n",
       "      <td>0.688706</td>\n",
       "      <td>0.689549</td>\n",
       "      <td>0.693089</td>\n",
       "      <td>0.690885</td>\n",
       "      <td>0.689564</td>\n",
       "      <td>0.687641</td>\n",
       "      <td>0.687296</td>\n",
       "      <td>0.689740</td>\n",
       "    </tr>\n",
       "  </tbody>\n",
       "</table>\n",
       "<p>5 rows × 25 columns</p>\n",
       "</div>"
      ],
      "text/plain": [
       "         1         2         3         4         5         6         7   \\\n",
       "0  0.630112  0.680122  0.726709  0.737603  0.746545  0.758349  0.755837   \n",
       "1  0.609724  0.669150  0.709407  0.717539  0.736693  0.745297  0.748205   \n",
       "2  0.618006  0.669928  0.712341  0.715926  0.735347  0.738783  0.741708   \n",
       "3  0.619756  0.683142  0.691183  0.727303  0.737644  0.743645  0.751718   \n",
       "4  0.618616  0.676006  0.717180  0.721476  0.729886  0.737199  0.738693   \n",
       "\n",
       "         8         9         10  ...        16        17        18        19  \\\n",
       "0  0.753497  0.746469  0.745900  ...  0.697432  0.701422  0.701390  0.701636   \n",
       "1  0.745218  0.739670  0.734015  ...  0.695712  0.696180  0.692199  0.684912   \n",
       "2  0.739696  0.739161  0.739343  ...  0.689668  0.680955  0.677786  0.674598   \n",
       "3  0.750650  0.752090  0.739414  ...  0.694562  0.692349  0.691201  0.687712   \n",
       "4  0.737329  0.731489  0.727794  ...  0.690799  0.696787  0.688706  0.689549   \n",
       "\n",
       "         20        21        22        23        24        25  \n",
       "0  0.698544  0.702092  0.701407  0.703854  0.701838  0.701266  \n",
       "1  0.690008  0.686909  0.693496  0.691013  0.689329  0.690327  \n",
       "2  0.680142  0.676587  0.677344  0.681193  0.680637  0.679990  \n",
       "3  0.689424  0.694517  0.693203  0.695362  0.696236  0.694898  \n",
       "4  0.693089  0.690885  0.689564  0.687641  0.687296  0.689740  \n",
       "\n",
       "[5 rows x 25 columns]"
      ]
     },
     "execution_count": 48,
     "metadata": {},
     "output_type": "execute_result"
    }
   ],
   "source": [
    "clf_valid_scores"
   ]
  },
  {
   "cell_type": "code",
   "execution_count": 49,
   "metadata": {},
   "outputs": [],
   "source": [
    "roc_entrenamiento=[]\n",
    "for c in clf_train_scores.columns:\n",
    "    promedio_roc=mean(clf_train_scores[c])\n",
    "    roc_entrenamiento.append(promedio_roc)\n",
    "    \n",
    "roc_validacion=[]\n",
    "for c in clf_valid_scores.columns:\n",
    "    promedio_roc=mean(clf_valid_scores[c])\n",
    "    roc_validacion.append(promedio_roc)\n",
    "\n",
    "prof=[]\n",
    "for c in bd_leaves.columns:\n",
    "    id_=mean(bd_leaves[c])\n",
    "    prof.append(id_)"
   ]
  },
  {
   "cell_type": "code",
   "execution_count": 50,
   "metadata": {},
   "outputs": [
    {
     "data": {
      "text/plain": [
       "[0.6192411525922783,\n",
       " 0.6757730493726122,\n",
       " 0.713947011309349,\n",
       " 0.7296462898084496,\n",
       " 0.7497149872909595,\n",
       " 0.7626861320771225,\n",
       " 0.7740639356523147,\n",
       " 0.7861395096145355,\n",
       " 0.7995831209465026,\n",
       " 0.8147486396203171,\n",
       " 0.8304619329185963,\n",
       " 0.8462486202985952,\n",
       " 0.8613740078572937,\n",
       " 0.8762144884222233,\n",
       " 0.8878055777190326,\n",
       " 0.8967756148300744,\n",
       " 0.9044245372893979,\n",
       " 0.9101670632162433,\n",
       " 0.91436182389069,\n",
       " 0.9174876608051044,\n",
       " 0.9202492290500972,\n",
       " 0.9220603193788254,\n",
       " 0.9232836668642161,\n",
       " 0.9241452986451867,\n",
       " 0.9248214623928039]"
      ]
     },
     "execution_count": 50,
     "metadata": {},
     "output_type": "execute_result"
    }
   ],
   "source": [
    "roc_entrenamiento"
   ]
  },
  {
   "cell_type": "code",
   "execution_count": 51,
   "metadata": {},
   "outputs": [
    {
     "data": {
      "text/plain": [
       "[0.6192428103266743,\n",
       " 0.6756697987385719,\n",
       " 0.7113640686718283,\n",
       " 0.7239695620753431,\n",
       " 0.7372230687217335,\n",
       " 0.7446545631693985,\n",
       " 0.7472321157900275,\n",
       " 0.7452780781178728,\n",
       " 0.7417755547950458,\n",
       " 0.7372932630864379,\n",
       " 0.7312539054821089,\n",
       " 0.7223644486805076,\n",
       " 0.7125844811631301,\n",
       " 0.7060742336373755,\n",
       " 0.6982136831822497,\n",
       " 0.6936345471060996,\n",
       " 0.6935387065119679,\n",
       " 0.6902564853357807,\n",
       " 0.6876816247962774,\n",
       " 0.6902414658296776,\n",
       " 0.6901980877921229,\n",
       " 0.6910028055573084,\n",
       " 0.6918125807668238,\n",
       " 0.691067225296945,\n",
       " 0.6912442623173648]"
      ]
     },
     "execution_count": 51,
     "metadata": {},
     "output_type": "execute_result"
    }
   ],
   "source": [
    "roc_validacion"
   ]
  },
  {
   "cell_type": "code",
   "execution_count": 52,
   "metadata": {
    "scrolled": false
   },
   "outputs": [
    {
     "data": {
      "image/png": "[encoded data removed]",
      "text/plain": [
       "<Figure size 720x360 with 1 Axes>"
      ]
     },
     "metadata": {
      "needs_background": "light"
     },
     "output_type": "display_data"
    }
   ],
   "source": [
    "fig, ax = plt.subplots(figsize=(10,5))\n",
    "\n",
    "ax.set_title(\"Entrenamiento Validación Sesgo\",fontsize=20)\n",
    "ax.plot(prof,roc_entrenamiento,color=\"blue\",linewidth=3,label=\"Entrenamiento\")\n",
    "ax.plot(prof,roc_validacion,color=\"red\",linewidth=3,label=\"Validacion\")\n",
    "#gca().yaxis.set_major_formatter(\"{x:,.0%}\")\n",
    "xticks(fontsize=16)\n",
    "yticks(fontsize=16)\n",
    "axvline(4)\n",
    "legend(fontsize=15)\n",
    "show()"
   ]
  },
  {
   "cell_type": "code",
   "execution_count": null,
   "metadata": {},
   "outputs": [],
   "source": []
  }
 ],
 "metadata": {
  "kernelspec": {
   "display_name": "Python 3",
   "language": "python",
   "name": "python3"
  },
  "language_info": {
   "codemirror_mode": {
    "name": "ipython",
    "version": 3
   },
   "file_extension": ".py",
   "mimetype": "text/x-python",
   "name": "python",
   "nbconvert_exporter": "python",
   "pygments_lexer": "ipython3",
   "version": "3.8.5"
  }
 },
 "nbformat": 4,
 "nbformat_minor": 4
}
