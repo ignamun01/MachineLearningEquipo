{
 "cells": [
  {
   "cell_type": "markdown",
   "metadata": {},
   "source": [
    "# Tarea 2. Ejercicio 2."
   ]
  },
  {
   "cell_type": "markdown",
   "metadata": {},
   "source": [
    "Cargamos las paqueterias necesarias para realizar el ejercicio"
   ]
  },
  {
   "cell_type": "code",
   "execution_count": 2,
   "metadata": {},
   "outputs": [],
   "source": [
    "import pandas as pd\n",
    "from sklearn.model_selection import train_test_split\n",
    "from sklearn.impute import SimpleImputer\n",
    "from sklearn.preprocessing import OneHotEncoder\n",
    "from sklearn.compose import ColumnTransformer\n",
    "from sklearn.pipeline import Pipeline\n",
    "from sklearn.tree import DecisionTreeClassifier, export_graphviz\n",
    "from sklearn import metrics\n",
    "from pylab import*\n",
    "import seaborn as sns\n",
    "import numpy as np\n",
    "from sklearn.model_selection import (GridSearchCV, cross_val_score,\n",
    "                                                 RandomizedSearchCV,\n",
    "                                                 cross_validate,\n",
    "                                                 StratifiedKFold)\n",
    "from sklearn.tree import plot_tree"
   ]
  },
  {
   "cell_type": "markdown",
   "metadata": {},
   "source": [
    "Cargamos los datos para realizar el ejercicio y damos un vistazo de como se ve:"
   ]
  },
  {
   "cell_type": "code",
   "execution_count": 3,
   "metadata": {},
   "outputs": [
    {
     "data": {
      "text/html": [
       "<div>\n",
       "<style scoped>\n",
       "    .dataframe tbody tr th:only-of-type {\n",
       "        vertical-align: middle;\n",
       "    }\n",
       "\n",
       "    .dataframe tbody tr th {\n",
       "        vertical-align: top;\n",
       "    }\n",
       "\n",
       "    .dataframe thead th {\n",
       "        text-align: right;\n",
       "    }\n",
       "</style>\n",
       "<table border=\"1\" class=\"dataframe\">\n",
       "  <thead>\n",
       "    <tr style=\"text-align: right;\">\n",
       "      <th></th>\n",
       "      <th>Dar_Credito</th>\n",
       "      <th>comp_interno1</th>\n",
       "      <th>comp_externo1</th>\n",
       "      <th>comp_externo2</th>\n",
       "      <th>comp_externo3</th>\n",
       "      <th>comp_externo4</th>\n",
       "      <th>comp_mixto1</th>\n",
       "      <th>inversion</th>\n",
       "      <th>comp_interno2</th>\n",
       "      <th>comp_interno3</th>\n",
       "      <th>comp_interno4</th>\n",
       "      <th>categoria1</th>\n",
       "      <th>categoria2</th>\n",
       "      <th>categoria3</th>\n",
       "    </tr>\n",
       "  </thead>\n",
       "  <tbody>\n",
       "    <tr>\n",
       "      <th>0</th>\n",
       "      <td>1</td>\n",
       "      <td>0.000000</td>\n",
       "      <td>260.869565</td>\n",
       "      <td>25.854639</td>\n",
       "      <td>56.0</td>\n",
       "      <td>-230.0</td>\n",
       "      <td>0.33522</td>\n",
       "      <td>0.000000</td>\n",
       "      <td>b'0'</td>\n",
       "      <td>11</td>\n",
       "      <td>58</td>\n",
       "      <td>2</td>\n",
       "      <td>9</td>\n",
       "      <td>156</td>\n",
       "    </tr>\n",
       "    <tr>\n",
       "      <th>1</th>\n",
       "      <td>1</td>\n",
       "      <td>0.000000</td>\n",
       "      <td>40.579710</td>\n",
       "      <td>2.872738</td>\n",
       "      <td>62.0</td>\n",
       "      <td>-230.0</td>\n",
       "      <td>0.33334</td>\n",
       "      <td>0.041039</td>\n",
       "      <td>b'1'</td>\n",
       "      <td>28</td>\n",
       "      <td>45</td>\n",
       "      <td>1</td>\n",
       "      <td>4</td>\n",
       "      <td>173</td>\n",
       "    </tr>\n",
       "    <tr>\n",
       "      <th>2</th>\n",
       "      <td>1</td>\n",
       "      <td>0.000000</td>\n",
       "      <td>119.000000</td>\n",
       "      <td>-230.000000</td>\n",
       "      <td>0.0</td>\n",
       "      <td>0.0</td>\n",
       "      <td>0.29186</td>\n",
       "      <td>0.000000</td>\n",
       "      <td>b'1'</td>\n",
       "      <td>25</td>\n",
       "      <td>45</td>\n",
       "      <td>1</td>\n",
       "      <td>9</td>\n",
       "      <td>170</td>\n",
       "    </tr>\n",
       "    <tr>\n",
       "      <th>3</th>\n",
       "      <td>1</td>\n",
       "      <td>0.000000</td>\n",
       "      <td>349.275362</td>\n",
       "      <td>34.616490</td>\n",
       "      <td>94.0</td>\n",
       "      <td>-230.0</td>\n",
       "      <td>0.29112</td>\n",
       "      <td>0.000000</td>\n",
       "      <td>b'1'</td>\n",
       "      <td>14</td>\n",
       "      <td>59</td>\n",
       "      <td>3</td>\n",
       "      <td>3</td>\n",
       "      <td>159</td>\n",
       "    </tr>\n",
       "    <tr>\n",
       "      <th>4</th>\n",
       "      <td>1</td>\n",
       "      <td>2026.342452</td>\n",
       "      <td>276.811594</td>\n",
       "      <td>27.434645</td>\n",
       "      <td>125.0</td>\n",
       "      <td>-230.0</td>\n",
       "      <td>0.27318</td>\n",
       "      <td>77.422135</td>\n",
       "      <td>b'1'</td>\n",
       "      <td>1</td>\n",
       "      <td>67</td>\n",
       "      <td>2</td>\n",
       "      <td>9</td>\n",
       "      <td>146</td>\n",
       "    </tr>\n",
       "  </tbody>\n",
       "</table>\n",
       "</div>"
      ],
      "text/plain": [
       "   Dar_Credito  comp_interno1  comp_externo1  comp_externo2  comp_externo3  \\\n",
       "0            1       0.000000     260.869565      25.854639           56.0   \n",
       "1            1       0.000000      40.579710       2.872738           62.0   \n",
       "2            1       0.000000     119.000000    -230.000000            0.0   \n",
       "3            1       0.000000     349.275362      34.616490           94.0   \n",
       "4            1    2026.342452     276.811594      27.434645          125.0   \n",
       "\n",
       "   comp_externo4  comp_mixto1  inversion comp_interno2  comp_interno3  \\\n",
       "0         -230.0      0.33522   0.000000          b'0'             11   \n",
       "1         -230.0      0.33334   0.041039          b'1'             28   \n",
       "2            0.0      0.29186   0.000000          b'1'             25   \n",
       "3         -230.0      0.29112   0.000000          b'1'             14   \n",
       "4         -230.0      0.27318  77.422135          b'1'              1   \n",
       "\n",
       "   comp_interno4  categoria1  categoria2  categoria3  \n",
       "0             58           2           9         156  \n",
       "1             45           1           4         173  \n",
       "2             45           1           9         170  \n",
       "3             59           3           3         159  \n",
       "4             67           2           9         146  "
      ]
     },
     "execution_count": 3,
     "metadata": {},
     "output_type": "execute_result"
    }
   ],
   "source": [
    "DF = pd.read_excel('Base.xlsx',index_col=0)\n",
    "DF.head()"
   ]
  },
  {
   "cell_type": "markdown",
   "metadata": {},
   "source": [
    "##### Dividimos nuestra muestra en Test y Train"
   ]
  },
  {
   "cell_type": "code",
   "execution_count": 4,
   "metadata": {},
   "outputs": [],
   "source": [
    "train, test = train_test_split(DF, test_size = 0.20, random_state = 100) "
   ]
  },
  {
   "cell_type": "code",
   "execution_count": 5,
   "metadata": {},
   "outputs": [],
   "source": [
    "train_x = train.iloc[:,1:]\n",
    "train_y = train.iloc[:,0]\n",
    "test_x = test.iloc[:,1:]\n",
    "test_y = test.iloc[:,0]"
   ]
  },
  {
   "cell_type": "markdown",
   "metadata": {},
   "source": [
    "# Recordemos que el tarea 1 ejercicio 1 ya se le dio un tratamiento a los datos faltantes (NA's).\n",
    "### Y debido al análisis que se hizo en el ejercicio anterior, retiraremos ciertas variables que no aportan la información deseada o es redundante."
   ]
  },
  {
   "cell_type": "code",
   "execution_count": 6,
   "metadata": {},
   "outputs": [],
   "source": [
    "train_x = train_x.drop([\"comp_interno1\",\"comp_externo2\",\"comp_externo3\",\"inversion\",\"comp_interno2\",\"comp_interno4\",\"categoria2\",\"categoria3\"],axis=1)\n",
    "test_x = test_x.drop([\"comp_interno1\",\"comp_externo2\",\"comp_externo3\",\"inversion\",\"comp_interno2\",\"comp_interno4\",\"categoria2\",\"categoria3\"],axis=1)"
   ]
  },
  {
   "cell_type": "code",
   "execution_count": 7,
   "metadata": {},
   "outputs": [],
   "source": [
    "def performance_evaluation_report(model, X_test, y_test, show_plot=False, labels=None, show_pr_curve=False):\n",
    "    '''\n",
    "    Function for creating a performance report of a classification model.\n",
    "    \n",
    "    Parameters\n",
    "    ----------\n",
    "    model : scikit-learn estimator\n",
    "        A fitted estimator for classification problems.\n",
    "    X_test : pd.DataFrame\n",
    "        DataFrame with features matching y_test\n",
    "    y_test : array/pd.Series\n",
    "        Target of a classification problem.\n",
    "    show_plot : bool\n",
    "        Flag whether to show the plot\n",
    "    labels : list\n",
    "        List with the class names.\n",
    "    show_pr_curve : bool\n",
    "        Flag whether to also show the PR-curve. For this to take effect, \n",
    "        show_plot must be True.\n",
    "        \n",
    "    Return\n",
    "    ------\n",
    "    stats : pd.Series\n",
    "        A series with the most important evaluation metrics\n",
    "    '''\n",
    "    y_pred = model.predict(X_test)\n",
    "    y_pred_prob = model.predict_proba(X_test)[:, 1]\n",
    "\n",
    "    cm = metrics.confusion_matrix(y_test, y_pred)\n",
    "    tn, fp, fn, tp = cm.ravel()\n",
    "\n",
    "    fpr, tpr, threshold = metrics.roc_curve(y_test, y_pred_prob)\n",
    "    roc_auc = metrics.auc(fpr, tpr)\n",
    "\n",
    "    precision, recall, thresholds = metrics.precision_recall_curve(\n",
    "        y_test, y_pred_prob)\n",
    "    pr_auc = metrics.auc(recall, precision)\n",
    "\n",
    "    if show_plot:\n",
    "\n",
    "        if labels is None:\n",
    "            labels = ['Negative', 'Positive']\n",
    "\n",
    "        N_SUBPLOTS = 3 if show_pr_curve else 2\n",
    "        PLOT_WIDTH = 15 if show_pr_curve else 12\n",
    "        PLOT_HEIGHT = 5 if show_pr_curve else 6\n",
    "\n",
    "        fig, ax = plt.subplots(\n",
    "            1, N_SUBPLOTS, figsize=(PLOT_WIDTH, PLOT_HEIGHT))\n",
    "        fig.suptitle('Performance Evaluation', fontsize=16)\n",
    "\n",
    "        sns.heatmap(cm, annot=True, fmt=\"d\", linewidths=.5, cmap='BuGn_r', square=True, cbar=False, ax=ax[0],\n",
    "                    annot_kws={\"ha\": 'center', \"va\": 'center'})\n",
    "        ax[0].set(xlabel='Predicted label',\n",
    "                  ylabel='Actual label', title='Confusion Matrix')\n",
    "        ax[0].xaxis.set_ticklabels(labels)\n",
    "        ax[0].yaxis.set_ticklabels(labels)\n",
    "\n",
    "        ax[1].plot(fpr, tpr, 'b-', label=f'ROC-AUC = {roc_auc:.2f}')\n",
    "        ax[1].set(xlabel='False Positive Rate',\n",
    "                  ylabel='True Positive Rate', title='ROC Curve')\n",
    "        ax[1].plot(fp/(fp+tn), tp/(tp+fn), 'ro',\n",
    "                   markersize=8, label='Decision Point')\n",
    "        ax[1].plot([0, 1], [0, 1], 'r--')\n",
    "        ax[1].legend(loc='lower right')\n",
    "\n",
    "        if show_pr_curve:\n",
    "\n",
    "            ax[2].plot(recall, precision, label=f'PR-AUC = {pr_auc:.2f}')\n",
    "            ax[2].set(xlabel='Recall', ylabel='Precision',\n",
    "                      title='Precision-Recall Curve')\n",
    "            ax[2].legend()\n",
    "    stats = {'accuracy': metrics.accuracy_score(y_test, y_pred),\n",
    "             'precision': metrics.precision_score(y_test, y_pred),\n",
    "             'recall': metrics.recall_score(y_test, y_pred),\n",
    "             'specificity': (tn / (tn + fp)),\n",
    "             'f1_score': metrics.f1_score(y_test, y_pred),\n",
    "             'cohens_kappa': metrics.cohen_kappa_score(y_test, y_pred),\n",
    "             'roc_auc': roc_auc,\n",
    "             'pr_auc': pr_auc}\n",
    "\n",
    "    return stats"
   ]
  },
  {
   "cell_type": "markdown",
   "metadata": {},
   "source": [
    "------------------------------------"
   ]
  },
  {
   "cell_type": "markdown",
   "metadata": {},
   "source": [
    "### Realizamos el arbol de clasificacion"
   ]
  },
  {
   "cell_type": "code",
   "execution_count": 8,
   "metadata": {},
   "outputs": [],
   "source": [
    "dec_tree = DecisionTreeClassifier(random_state=42, max_depth = 2, criterion = 'entropy', min_samples_leaf= 2)"
   ]
  },
  {
   "cell_type": "code",
   "execution_count": 9,
   "metadata": {},
   "outputs": [],
   "source": [
    "tree_pipeline = Pipeline(steps=[('classifier', dec_tree)])"
   ]
  },
  {
   "cell_type": "code",
   "execution_count": 10,
   "metadata": {},
   "outputs": [
    {
     "data": {
      "text/plain": [
       "Pipeline(steps=[('classifier',\n",
       "                 DecisionTreeClassifier(criterion='entropy', max_depth=2,\n",
       "                                        min_samples_leaf=2, random_state=42))])"
      ]
     },
     "execution_count": 10,
     "metadata": {},
     "output_type": "execute_result"
    }
   ],
   "source": [
    "tree_pipeline.fit(train_x, train_y)"
   ]
  },
  {
   "cell_type": "code",
   "execution_count": 11,
   "metadata": {},
   "outputs": [
    {
     "data": {
      "image/png": "[encoded data removed]",
      "text/plain": [
       "<Figure size 864x432 with 2 Axes>"
      ]
     },
     "metadata": {
      "needs_background": "light"
     },
     "output_type": "display_data"
    }
   ],
   "source": [
    "LABELS = ['Malo', 'Bueno']\n",
    "tree_perf = performance_evaluation_report(tree_pipeline, train_x,train_y, labels=LABELS,show_plot=True)"
   ]
  },
  {
   "cell_type": "markdown",
   "metadata": {},
   "source": [
    "### Veamos el comportamiento con la muestra test."
   ]
  },
  {
   "cell_type": "code",
   "execution_count": 12,
   "metadata": {},
   "outputs": [
    {
     "data": {
      "image/png": "[encoded data removed]",
      "text/plain": [
       "<Figure size 864x432 with 2 Axes>"
      ]
     },
     "metadata": {
      "needs_background": "light"
     },
     "output_type": "display_data"
    }
   ],
   "source": [
    "LABELS = ['Malo', 'Bueno']\n",
    "tree_perf = performance_evaluation_report(tree_pipeline, test_x,test_y, labels=LABELS,show_plot=True)"
   ]
  },
  {
   "cell_type": "markdown",
   "metadata": {},
   "source": [
    "### Con un AUC igual a 0.62, para la muestra train podemos decir que nuestro modelo es regular, y con la muestra test tenemos un AUC de 0.60, que de igual forma, podemos decir que es un Test regular. "
   ]
  },
  {
   "cell_type": "markdown",
   "metadata": {},
   "source": [
    "------------------------------"
   ]
  },
  {
   "cell_type": "markdown",
   "metadata": {},
   "source": [
    "## Ahora realicemos la validacion cruzada, y encontrar los mejores parametros para el árbol de decisión"
   ]
  },
  {
   "cell_type": "code",
   "execution_count": 13,
   "metadata": {},
   "outputs": [],
   "source": [
    "from sklearn.model_selection import (GridSearchCV, cross_val_score,\n",
    "                                                 RandomizedSearchCV,\n",
    "                                                 cross_validate,\n",
    "                                                 StratifiedKFold)"
   ]
  },
  {
   "cell_type": "code",
   "execution_count": 14,
   "metadata": {},
   "outputs": [],
   "source": [
    "k_fold = StratifiedKFold(5, shuffle=True, random_state=42)"
   ]
  },
  {
   "cell_type": "code",
   "execution_count": 15,
   "metadata": {},
   "outputs": [
    {
     "data": {
      "text/plain": [
       "array([0.92984127, 0.92998889, 0.92998889, 0.92983013, 0.92983013])"
      ]
     },
     "execution_count": 15,
     "metadata": {},
     "output_type": "execute_result"
    }
   ],
   "source": [
    "cross_val_score(tree_pipeline, train_x, train_y, cv=k_fold)"
   ]
  },
  {
   "cell_type": "code",
   "execution_count": 16,
   "metadata": {},
   "outputs": [
    {
     "data": {
      "text/plain": [
       "{'fit_time': array([0.03997755, 0.02998018, 0.03097868, 0.03198123, 0.03198147]),\n",
       " 'score_time': array([0.08875394, 0.01999211, 0.0200088 , 0.01797175, 0.0199728 ]),\n",
       " 'test_accuracy': array([0.92984127, 0.92998889, 0.92998889, 0.92983013, 0.92983013]),\n",
       " 'test_precision': array([0.92984127, 0.92998889, 0.92998889, 0.92983013, 0.92983013]),\n",
       " 'test_recall': array([1., 1., 1., 1., 1.]),\n",
       " 'test_roc_auc': array([0.59377689, 0.62964731, 0.61530988, 0.61116991, 0.62232742])}"
      ]
     },
     "execution_count": 16,
     "metadata": {},
     "output_type": "execute_result"
    }
   ],
   "source": [
    "cross_validate(tree_pipeline, train_x, train_y, cv=k_fold,\n",
    "                           scoring=['accuracy', 'precision', 'recall','roc_auc'])"
   ]
  },
  {
   "cell_type": "markdown",
   "metadata": {},
   "source": [
    "Podemos ver que los roc_auc son similares a los obtenidos anteriormente."
   ]
  },
  {
   "cell_type": "code",
   "execution_count": 17,
   "metadata": {},
   "outputs": [],
   "source": [
    "param_grid = {'classifier__criterion': ['entropy', 'gini'],\n",
    "               'classifier__max_depth': range(3, 11),\n",
    "               'classifier__min_samples_leaf': range(2, 11)}"
   ]
  },
  {
   "cell_type": "code",
   "execution_count": 18,
   "metadata": {},
   "outputs": [
    {
     "name": "stdout",
     "output_type": "stream",
     "text": [
      "Fitting 5 folds for each of 144 candidates, totalling 720 fits\n"
     ]
    },
    {
     "name": "stderr",
     "output_type": "stream",
     "text": [
      "[Parallel(n_jobs=-1)]: Using backend LokyBackend with 4 concurrent workers.\n",
      "[Parallel(n_jobs=-1)]: Done  42 tasks      | elapsed:    9.2s\n",
      "[Parallel(n_jobs=-1)]: Done 192 tasks      | elapsed:   15.3s\n",
      "[Parallel(n_jobs=-1)]: Done 442 tasks      | elapsed:   27.6s\n",
      "[Parallel(n_jobs=-1)]: Done 720 out of 720 | elapsed:   39.7s finished\n"
     ]
    },
    {
     "data": {
      "text/plain": [
       "GridSearchCV(cv=StratifiedKFold(n_splits=5, random_state=42, shuffle=True),\n",
       "             estimator=Pipeline(steps=[('classifier',\n",
       "                                        DecisionTreeClassifier(criterion='entropy',\n",
       "                                                               max_depth=2,\n",
       "                                                               min_samples_leaf=2,\n",
       "                                                               random_state=42))]),\n",
       "             n_jobs=-1,\n",
       "             param_grid={'classifier__criterion': ['entropy', 'gini'],\n",
       "                         'classifier__max_depth': range(3, 11),\n",
       "                         'classifier__min_samples_leaf': range(2, 11)},\n",
       "             scoring='recall', verbose=1)"
      ]
     },
     "execution_count": 18,
     "metadata": {},
     "output_type": "execute_result"
    }
   ],
   "source": [
    "classifier_gs = GridSearchCV(tree_pipeline, param_grid,scoring='recall',cv=k_fold, n_jobs=-1, verbose=1)\n",
    "classifier_gs.fit(train_x, train_y)"
   ]
  },
  {
   "cell_type": "code",
   "execution_count": 19,
   "metadata": {},
   "outputs": [
    {
     "name": "stdout",
     "output_type": "stream",
     "text": [
      "Best parameters: {'classifier__criterion': 'entropy', 'classifier__max_depth': 3, 'classifier__min_samples_leaf': 2}\n",
      "Recall (Training set): 1.0000\n",
      "Recall (Test set): 1.0000\n"
     ]
    }
   ],
   "source": [
    "print(f'Best parameters: {classifier_gs.best_params_}') \n",
    "print(f'Recall (Training set): {classifier_gs.best_score_:.4f}') \n",
    "print(f'Recall (Test set): {metrics.recall_score(train_y, classifier_gs.predict(train_x)):.4f}')"
   ]
  },
  {
   "cell_type": "markdown",
   "metadata": {},
   "source": [
    "### Validemos que obtenemos un mejor resultado con la optimización que nos recomienda la función:"
   ]
  },
  {
   "cell_type": "code",
   "execution_count": 20,
   "metadata": {},
   "outputs": [
    {
     "data": {
      "image/png": "[encoded data removed]",
      "text/plain": [
       "<Figure size 864x432 with 2 Axes>"
      ]
     },
     "metadata": {
      "needs_background": "light"
     },
     "output_type": "display_data"
    }
   ],
   "source": [
    "LABELS = ['Malo', 'Bueno']\n",
    "tree_gs_perf = performance_evaluation_report(classifier_gs, test_x, \n",
    "                                             test_y, labels=LABELS, \n",
    "                                             show_plot=True)\n",
    "\n",
    "plt.tight_layout()\n",
    "plt.show()"
   ]
  },
  {
   "cell_type": "markdown",
   "metadata": {},
   "source": [
    "Y ciertamente mejoro el AUC pasamos de 0.60 a 0.62, sin embargo no fue una gran mejora, es por ello que se tiene la siguiente sección."
   ]
  },
  {
   "cell_type": "markdown",
   "metadata": {},
   "source": [
    "- - - - - - - - "
   ]
  },
  {
   "cell_type": "markdown",
   "metadata": {},
   "source": [
    "## Aun cuando la función nos recomienda los parametros, estos ¿Son los mejores?"
   ]
  },
  {
   "cell_type": "code",
   "execution_count": 21,
   "metadata": {},
   "outputs": [],
   "source": [
    "from sklearn.metrics import roc_auc_score, roc_curve, mean_squared_error, precision_recall_curve,  accuracy_score"
   ]
  },
  {
   "cell_type": "code",
   "execution_count": 22,
   "metadata": {},
   "outputs": [
    {
     "name": "stdout",
     "output_type": "stream",
     "text": [
      "1 2 3 4 5 6 7 8 9 10 11 12 13 14 15 16 17 18 19 20 21 22 23 24 25 "
     ]
    }
   ],
   "source": [
    "train_scores, val_scores, leaves = {}, {}, {}\n",
    "for max_depth in range(1, 26):\n",
    "    print(max_depth, end=' ', flush=True)\n",
    "    reg_tree = DecisionTreeClassifier(criterion='entropy',\n",
    "                                          max_depth=max_depth,\n",
    "                                          min_samples_leaf=5,\n",
    "                                          random_state=42)\n",
    "    tree_pipeline = Pipeline(steps=[('classifier', reg_tree)])\n",
    "    train_scores[max_depth], val_scores[max_depth], leaves[max_depth] = [],[], []\n",
    "    for train_idx, test_idx in k_fold.split(train_x,train_y):\n",
    "        X_t, y_t,  = train_x.iloc[train_idx], train_y.iloc[train_idx]\n",
    "        X_te, y_te = train_x.iloc[test_idx], train_y.iloc[test_idx]\n",
    "        tree_pipeline.fit(X_t, y_t)\n",
    "        train_pred = tree_pipeline.predict_proba(X=X_t)[:, 1]\n",
    "        train_score = roc_auc_score(y_score=train_pred, y_true=y_t)\n",
    "        train_scores[max_depth].append(train_score)\n",
    "\n",
    "        test_pred = tree_pipeline.predict_proba(X=X_te)[:, 1]\n",
    "        val_score = roc_auc_score(y_score=test_pred, y_true=y_te)\n",
    "        val_scores[max_depth].append(val_score)  \n",
    "        leaves[max_depth].append(max_depth)"
   ]
  },
  {
   "cell_type": "code",
   "execution_count": 23,
   "metadata": {},
   "outputs": [
    {
     "data": {
      "text/html": [
       "<div>\n",
       "<style scoped>\n",
       "    .dataframe tbody tr th:only-of-type {\n",
       "        vertical-align: middle;\n",
       "    }\n",
       "\n",
       "    .dataframe tbody tr th {\n",
       "        vertical-align: top;\n",
       "    }\n",
       "\n",
       "    .dataframe thead th {\n",
       "        text-align: right;\n",
       "    }\n",
       "</style>\n",
       "<table border=\"1\" class=\"dataframe\">\n",
       "  <thead>\n",
       "    <tr style=\"text-align: right;\">\n",
       "      <th></th>\n",
       "      <th>1</th>\n",
       "      <th>2</th>\n",
       "      <th>3</th>\n",
       "      <th>4</th>\n",
       "      <th>5</th>\n",
       "      <th>6</th>\n",
       "      <th>7</th>\n",
       "      <th>8</th>\n",
       "      <th>9</th>\n",
       "      <th>10</th>\n",
       "      <th>...</th>\n",
       "      <th>16</th>\n",
       "      <th>17</th>\n",
       "      <th>18</th>\n",
       "      <th>19</th>\n",
       "      <th>20</th>\n",
       "      <th>21</th>\n",
       "      <th>22</th>\n",
       "      <th>23</th>\n",
       "      <th>24</th>\n",
       "      <th>25</th>\n",
       "    </tr>\n",
       "  </thead>\n",
       "  <tbody>\n",
       "    <tr>\n",
       "      <th>0</th>\n",
       "      <td>0.592361</td>\n",
       "      <td>0.625035</td>\n",
       "      <td>0.648059</td>\n",
       "      <td>0.665333</td>\n",
       "      <td>0.681398</td>\n",
       "      <td>0.703497</td>\n",
       "      <td>0.725519</td>\n",
       "      <td>0.752604</td>\n",
       "      <td>0.781532</td>\n",
       "      <td>0.810983</td>\n",
       "      <td>...</td>\n",
       "      <td>0.929388</td>\n",
       "      <td>0.936625</td>\n",
       "      <td>0.942463</td>\n",
       "      <td>0.945910</td>\n",
       "      <td>0.948216</td>\n",
       "      <td>0.949688</td>\n",
       "      <td>0.950901</td>\n",
       "      <td>0.951630</td>\n",
       "      <td>0.952415</td>\n",
       "      <td>0.952632</td>\n",
       "    </tr>\n",
       "    <tr>\n",
       "      <th>1</th>\n",
       "      <td>0.583127</td>\n",
       "      <td>0.616599</td>\n",
       "      <td>0.636734</td>\n",
       "      <td>0.655098</td>\n",
       "      <td>0.669834</td>\n",
       "      <td>0.690944</td>\n",
       "      <td>0.708757</td>\n",
       "      <td>0.729770</td>\n",
       "      <td>0.756594</td>\n",
       "      <td>0.783928</td>\n",
       "      <td>...</td>\n",
       "      <td>0.914108</td>\n",
       "      <td>0.925887</td>\n",
       "      <td>0.934409</td>\n",
       "      <td>0.940780</td>\n",
       "      <td>0.944968</td>\n",
       "      <td>0.947610</td>\n",
       "      <td>0.949090</td>\n",
       "      <td>0.950154</td>\n",
       "      <td>0.951146</td>\n",
       "      <td>0.951579</td>\n",
       "    </tr>\n",
       "    <tr>\n",
       "      <th>2</th>\n",
       "      <td>0.587383</td>\n",
       "      <td>0.620338</td>\n",
       "      <td>0.645584</td>\n",
       "      <td>0.663674</td>\n",
       "      <td>0.678722</td>\n",
       "      <td>0.695336</td>\n",
       "      <td>0.714350</td>\n",
       "      <td>0.734384</td>\n",
       "      <td>0.757116</td>\n",
       "      <td>0.780388</td>\n",
       "      <td>...</td>\n",
       "      <td>0.904393</td>\n",
       "      <td>0.916835</td>\n",
       "      <td>0.926023</td>\n",
       "      <td>0.934079</td>\n",
       "      <td>0.938710</td>\n",
       "      <td>0.942708</td>\n",
       "      <td>0.945172</td>\n",
       "      <td>0.946961</td>\n",
       "      <td>0.948635</td>\n",
       "      <td>0.949691</td>\n",
       "    </tr>\n",
       "    <tr>\n",
       "      <th>3</th>\n",
       "      <td>0.587165</td>\n",
       "      <td>0.620752</td>\n",
       "      <td>0.643445</td>\n",
       "      <td>0.660668</td>\n",
       "      <td>0.673848</td>\n",
       "      <td>0.692294</td>\n",
       "      <td>0.716512</td>\n",
       "      <td>0.740388</td>\n",
       "      <td>0.769762</td>\n",
       "      <td>0.794709</td>\n",
       "      <td>...</td>\n",
       "      <td>0.920551</td>\n",
       "      <td>0.930439</td>\n",
       "      <td>0.937380</td>\n",
       "      <td>0.941858</td>\n",
       "      <td>0.945190</td>\n",
       "      <td>0.947588</td>\n",
       "      <td>0.949748</td>\n",
       "      <td>0.951111</td>\n",
       "      <td>0.951463</td>\n",
       "      <td>0.952180</td>\n",
       "    </tr>\n",
       "    <tr>\n",
       "      <th>4</th>\n",
       "      <td>0.584575</td>\n",
       "      <td>0.618981</td>\n",
       "      <td>0.644120</td>\n",
       "      <td>0.659195</td>\n",
       "      <td>0.674698</td>\n",
       "      <td>0.693315</td>\n",
       "      <td>0.710895</td>\n",
       "      <td>0.732197</td>\n",
       "      <td>0.760969</td>\n",
       "      <td>0.791763</td>\n",
       "      <td>...</td>\n",
       "      <td>0.921708</td>\n",
       "      <td>0.930942</td>\n",
       "      <td>0.936990</td>\n",
       "      <td>0.941710</td>\n",
       "      <td>0.945109</td>\n",
       "      <td>0.948019</td>\n",
       "      <td>0.950045</td>\n",
       "      <td>0.951050</td>\n",
       "      <td>0.951637</td>\n",
       "      <td>0.952059</td>\n",
       "    </tr>\n",
       "  </tbody>\n",
       "</table>\n",
       "<p>5 rows × 25 columns</p>\n",
       "</div>"
      ],
      "text/plain": [
       "         1         2         3         4         5         6         7   \\\n",
       "0  0.592361  0.625035  0.648059  0.665333  0.681398  0.703497  0.725519   \n",
       "1  0.583127  0.616599  0.636734  0.655098  0.669834  0.690944  0.708757   \n",
       "2  0.587383  0.620338  0.645584  0.663674  0.678722  0.695336  0.714350   \n",
       "3  0.587165  0.620752  0.643445  0.660668  0.673848  0.692294  0.716512   \n",
       "4  0.584575  0.618981  0.644120  0.659195  0.674698  0.693315  0.710895   \n",
       "\n",
       "         8         9         10  ...        16        17        18        19  \\\n",
       "0  0.752604  0.781532  0.810983  ...  0.929388  0.936625  0.942463  0.945910   \n",
       "1  0.729770  0.756594  0.783928  ...  0.914108  0.925887  0.934409  0.940780   \n",
       "2  0.734384  0.757116  0.780388  ...  0.904393  0.916835  0.926023  0.934079   \n",
       "3  0.740388  0.769762  0.794709  ...  0.920551  0.930439  0.937380  0.941858   \n",
       "4  0.732197  0.760969  0.791763  ...  0.921708  0.930942  0.936990  0.941710   \n",
       "\n",
       "         20        21        22        23        24        25  \n",
       "0  0.948216  0.949688  0.950901  0.951630  0.952415  0.952632  \n",
       "1  0.944968  0.947610  0.949090  0.950154  0.951146  0.951579  \n",
       "2  0.938710  0.942708  0.945172  0.946961  0.948635  0.949691  \n",
       "3  0.945190  0.947588  0.949748  0.951111  0.951463  0.952180  \n",
       "4  0.945109  0.948019  0.950045  0.951050  0.951637  0.952059  \n",
       "\n",
       "[5 rows x 25 columns]"
      ]
     },
     "execution_count": 23,
     "metadata": {},
     "output_type": "execute_result"
    }
   ],
   "source": [
    "clf_train_scores = pd.DataFrame(train_scores)\n",
    "clf_train_scores"
   ]
  },
  {
   "cell_type": "code",
   "execution_count": 24,
   "metadata": {},
   "outputs": [
    {
     "data": {
      "text/html": [
       "<div>\n",
       "<style scoped>\n",
       "    .dataframe tbody tr th:only-of-type {\n",
       "        vertical-align: middle;\n",
       "    }\n",
       "\n",
       "    .dataframe tbody tr th {\n",
       "        vertical-align: top;\n",
       "    }\n",
       "\n",
       "    .dataframe thead th {\n",
       "        text-align: right;\n",
       "    }\n",
       "</style>\n",
       "<table border=\"1\" class=\"dataframe\">\n",
       "  <thead>\n",
       "    <tr style=\"text-align: right;\">\n",
       "      <th></th>\n",
       "      <th>1</th>\n",
       "      <th>2</th>\n",
       "      <th>3</th>\n",
       "      <th>4</th>\n",
       "      <th>5</th>\n",
       "      <th>6</th>\n",
       "      <th>7</th>\n",
       "      <th>8</th>\n",
       "      <th>9</th>\n",
       "      <th>10</th>\n",
       "      <th>...</th>\n",
       "      <th>16</th>\n",
       "      <th>17</th>\n",
       "      <th>18</th>\n",
       "      <th>19</th>\n",
       "      <th>20</th>\n",
       "      <th>21</th>\n",
       "      <th>22</th>\n",
       "      <th>23</th>\n",
       "      <th>24</th>\n",
       "      <th>25</th>\n",
       "    </tr>\n",
       "  </thead>\n",
       "  <tbody>\n",
       "    <tr>\n",
       "      <th>0</th>\n",
       "      <td>0.564628</td>\n",
       "      <td>0.593777</td>\n",
       "      <td>0.603999</td>\n",
       "      <td>0.619434</td>\n",
       "      <td>0.626800</td>\n",
       "      <td>0.608202</td>\n",
       "      <td>0.602089</td>\n",
       "      <td>0.584360</td>\n",
       "      <td>0.586502</td>\n",
       "      <td>0.575709</td>\n",
       "      <td>...</td>\n",
       "      <td>0.548621</td>\n",
       "      <td>0.550505</td>\n",
       "      <td>0.548193</td>\n",
       "      <td>0.549630</td>\n",
       "      <td>0.547321</td>\n",
       "      <td>0.548540</td>\n",
       "      <td>0.551556</td>\n",
       "      <td>0.544852</td>\n",
       "      <td>0.540575</td>\n",
       "      <td>0.541392</td>\n",
       "    </tr>\n",
       "    <tr>\n",
       "      <th>1</th>\n",
       "      <td>0.601939</td>\n",
       "      <td>0.629647</td>\n",
       "      <td>0.636961</td>\n",
       "      <td>0.653054</td>\n",
       "      <td>0.650423</td>\n",
       "      <td>0.642540</td>\n",
       "      <td>0.641406</td>\n",
       "      <td>0.632857</td>\n",
       "      <td>0.622993</td>\n",
       "      <td>0.611576</td>\n",
       "      <td>...</td>\n",
       "      <td>0.548072</td>\n",
       "      <td>0.545490</td>\n",
       "      <td>0.543387</td>\n",
       "      <td>0.542514</td>\n",
       "      <td>0.542323</td>\n",
       "      <td>0.535970</td>\n",
       "      <td>0.529485</td>\n",
       "      <td>0.536087</td>\n",
       "      <td>0.536567</td>\n",
       "      <td>0.536482</td>\n",
       "    </tr>\n",
       "    <tr>\n",
       "      <th>2</th>\n",
       "      <td>0.584872</td>\n",
       "      <td>0.615310</td>\n",
       "      <td>0.626432</td>\n",
       "      <td>0.628480</td>\n",
       "      <td>0.636739</td>\n",
       "      <td>0.642328</td>\n",
       "      <td>0.637798</td>\n",
       "      <td>0.629993</td>\n",
       "      <td>0.610163</td>\n",
       "      <td>0.602266</td>\n",
       "      <td>...</td>\n",
       "      <td>0.552013</td>\n",
       "      <td>0.551092</td>\n",
       "      <td>0.544127</td>\n",
       "      <td>0.545512</td>\n",
       "      <td>0.546529</td>\n",
       "      <td>0.544439</td>\n",
       "      <td>0.542552</td>\n",
       "      <td>0.544911</td>\n",
       "      <td>0.547825</td>\n",
       "      <td>0.546504</td>\n",
       "    </tr>\n",
       "    <tr>\n",
       "      <th>3</th>\n",
       "      <td>0.585758</td>\n",
       "      <td>0.611170</td>\n",
       "      <td>0.623512</td>\n",
       "      <td>0.632356</td>\n",
       "      <td>0.631561</td>\n",
       "      <td>0.632431</td>\n",
       "      <td>0.625826</td>\n",
       "      <td>0.617135</td>\n",
       "      <td>0.610991</td>\n",
       "      <td>0.604728</td>\n",
       "      <td>...</td>\n",
       "      <td>0.555523</td>\n",
       "      <td>0.548076</td>\n",
       "      <td>0.542437</td>\n",
       "      <td>0.542843</td>\n",
       "      <td>0.544736</td>\n",
       "      <td>0.549060</td>\n",
       "      <td>0.536833</td>\n",
       "      <td>0.539512</td>\n",
       "      <td>0.541475</td>\n",
       "      <td>0.541834</td>\n",
       "    </tr>\n",
       "    <tr>\n",
       "      <th>4</th>\n",
       "      <td>0.596110</td>\n",
       "      <td>0.622327</td>\n",
       "      <td>0.633274</td>\n",
       "      <td>0.635251</td>\n",
       "      <td>0.653257</td>\n",
       "      <td>0.659328</td>\n",
       "      <td>0.652951</td>\n",
       "      <td>0.643932</td>\n",
       "      <td>0.637102</td>\n",
       "      <td>0.622417</td>\n",
       "      <td>...</td>\n",
       "      <td>0.559585</td>\n",
       "      <td>0.553042</td>\n",
       "      <td>0.547703</td>\n",
       "      <td>0.544382</td>\n",
       "      <td>0.542820</td>\n",
       "      <td>0.542051</td>\n",
       "      <td>0.545257</td>\n",
       "      <td>0.543329</td>\n",
       "      <td>0.547565</td>\n",
       "      <td>0.544799</td>\n",
       "    </tr>\n",
       "  </tbody>\n",
       "</table>\n",
       "<p>5 rows × 25 columns</p>\n",
       "</div>"
      ],
      "text/plain": [
       "         1         2         3         4         5         6         7   \\\n",
       "0  0.564628  0.593777  0.603999  0.619434  0.626800  0.608202  0.602089   \n",
       "1  0.601939  0.629647  0.636961  0.653054  0.650423  0.642540  0.641406   \n",
       "2  0.584872  0.615310  0.626432  0.628480  0.636739  0.642328  0.637798   \n",
       "3  0.585758  0.611170  0.623512  0.632356  0.631561  0.632431  0.625826   \n",
       "4  0.596110  0.622327  0.633274  0.635251  0.653257  0.659328  0.652951   \n",
       "\n",
       "         8         9         10  ...        16        17        18        19  \\\n",
       "0  0.584360  0.586502  0.575709  ...  0.548621  0.550505  0.548193  0.549630   \n",
       "1  0.632857  0.622993  0.611576  ...  0.548072  0.545490  0.543387  0.542514   \n",
       "2  0.629993  0.610163  0.602266  ...  0.552013  0.551092  0.544127  0.545512   \n",
       "3  0.617135  0.610991  0.604728  ...  0.555523  0.548076  0.542437  0.542843   \n",
       "4  0.643932  0.637102  0.622417  ...  0.559585  0.553042  0.547703  0.544382   \n",
       "\n",
       "         20        21        22        23        24        25  \n",
       "0  0.547321  0.548540  0.551556  0.544852  0.540575  0.541392  \n",
       "1  0.542323  0.535970  0.529485  0.536087  0.536567  0.536482  \n",
       "2  0.546529  0.544439  0.542552  0.544911  0.547825  0.546504  \n",
       "3  0.544736  0.549060  0.536833  0.539512  0.541475  0.541834  \n",
       "4  0.542820  0.542051  0.545257  0.543329  0.547565  0.544799  \n",
       "\n",
       "[5 rows x 25 columns]"
      ]
     },
     "execution_count": 24,
     "metadata": {},
     "output_type": "execute_result"
    }
   ],
   "source": [
    "clf_valid_scores = pd.DataFrame(val_scores)\n",
    "clf_valid_scores"
   ]
  },
  {
   "cell_type": "code",
   "execution_count": 25,
   "metadata": {},
   "outputs": [],
   "source": [
    "bd_leaves = pd.DataFrame(leaves)"
   ]
  },
  {
   "cell_type": "code",
   "execution_count": 26,
   "metadata": {},
   "outputs": [],
   "source": [
    "roc_entrenamiento=[]\n",
    "for c in clf_train_scores.columns:\n",
    "    promedio_roc=mean(clf_train_scores[c])\n",
    "    roc_entrenamiento.append(promedio_roc)\n",
    "    \n",
    "roc_validacion=[]\n",
    "for c in clf_valid_scores.columns:\n",
    "    promedio_roc=mean(clf_valid_scores[c])\n",
    "    roc_validacion.append(promedio_roc)\n",
    "\n",
    "prof=[]\n",
    "for c in bd_leaves.columns:\n",
    "    id_=mean(bd_leaves[c])\n",
    "    prof.append(id_)"
   ]
  },
  {
   "cell_type": "code",
   "execution_count": 28,
   "metadata": {},
   "outputs": [
    {
     "data": {
      "image/png": "[encoded data removed]",
      "text/plain": [
       "<Figure size 720x360 with 1 Axes>"
      ]
     },
     "metadata": {
      "needs_background": "light"
     },
     "output_type": "display_data"
    }
   ],
   "source": [
    "fig, ax = plt.subplots(figsize=(10,5))\n",
    "\n",
    "ax.set_title(\"Entrenamiento Validación Sesgo\",fontsize=20)\n",
    "ax.plot(prof,roc_entrenamiento,color=\"blue\",linewidth=3,label=\"Entrenamiento\")\n",
    "ax.plot(prof,roc_validacion,color=\"red\",linewidth=3,label=\"Validacion\")\n",
    "xticks(fontsize=16)\n",
    "yticks(fontsize=16)\n",
    "axvline(5)\n",
    "legend(fontsize=15)\n",
    "show()"
   ]
  },
  {
   "cell_type": "markdown",
   "metadata": {},
   "source": [
    "#### A pesar de que la función pasada nos dice que los mejores parametros es max_depth= 3 y min_samples_leaf= 2, y en efecto obtenemos un mejor resultado, consideramos que un max_depth= 6 y un min_samples_leaf= 5 nos dan **mejores resultados**, sin sesgar nuestro resultado: "
   ]
  },
  {
   "cell_type": "code",
   "execution_count": 44,
   "metadata": {},
   "outputs": [
    {
     "data": {
      "text/plain": [
       "DecisionTreeClassifier(criterion='entropy', max_depth=6, min_samples_leaf=5,\n",
       "                       random_state=42)"
      ]
     },
     "execution_count": 44,
     "metadata": {},
     "output_type": "execute_result"
    }
   ],
   "source": [
    "dec_tree = DecisionTreeClassifier(random_state=42, max_depth = 6, criterion = 'entropy', min_samples_leaf= 5)\n",
    "dec_tree.fit(train_x, train_y)"
   ]
  },
  {
   "cell_type": "code",
   "execution_count": 45,
   "metadata": {},
   "outputs": [
    {
     "data": {
      "image/png": "[encoded data removed]",
      "text/plain": [
       "<Figure size 864x432 with 2 Axes>"
      ]
     },
     "metadata": {
      "needs_background": "light"
     },
     "output_type": "display_data"
    }
   ],
   "source": [
    "LABELS = ['Malo', 'Bueno']\n",
    "tree_perf = performance_evaluation_report(dec_tree, train_x,train_y, labels=LABELS, show_plot=True)"
   ]
  },
  {
   "cell_type": "markdown",
   "metadata": {},
   "source": [
    "------------------------------------"
   ]
  },
  {
   "cell_type": "markdown",
   "metadata": {},
   "source": [
    "#### A continuación obtendremos el valor KS y GINI, el AUC-ROC se puede encontrar en la imagen anterior:"
   ]
  },
  {
   "cell_type": "markdown",
   "metadata": {},
   "source": [
    "## Train"
   ]
  },
  {
   "cell_type": "code",
   "execution_count": 46,
   "metadata": {},
   "outputs": [
    {
     "data": {
      "text/plain": [
       "0.27405991077119174"
      ]
     },
     "execution_count": 46,
     "metadata": {},
     "output_type": "execute_result"
    }
   ],
   "source": [
    "#Obtenemos el predict\n",
    "y_pr_fit_train = dec_tree.predict_proba(train_x)\n",
    "df_predicts_train = train_y.to_frame()\n",
    "df_predicts_train['estimado'] = y_pr_fit_train[:,1]\n",
    "\n",
    "#Construcción de Scorecard\n",
    "from statsmodels.distributions.empirical_distribution import ECDF\n",
    "from scipy.stats import ks_2samp\n",
    "\n",
    "#KS\n",
    "ecdf_malos_train = ECDF(df_predicts_train.loc[df_predicts_train.Dar_Credito==0.0,'estimado'])\n",
    "ecdf_buenos_train= ECDF(df_predicts_train.loc[df_predicts_train.Dar_Credito==1.0,'estimado'])\n",
    "grid_score_train = np.sort(df_predicts_train.estimado.unique())\n",
    "prob_acum_buenos_train = ecdf_buenos_train(grid_score_train)\n",
    "prob_acum_malos_train = ecdf_malos_train(grid_score_train)\n",
    "abs_dif_train = np.abs(prob_acum_buenos_train-prob_acum_malos_train)\n",
    "KS_train = np.max (abs_dif_train)\n",
    "KS_train"
   ]
  },
  {
   "cell_type": "markdown",
   "metadata": {},
   "source": [
    "Con un KS>20%, podemos decir que nuestro modelo es **satisfactorio** con los datos de train."
   ]
  },
  {
   "cell_type": "code",
   "execution_count": 47,
   "metadata": {},
   "outputs": [
    {
     "name": "stdout",
     "output_type": "stream",
     "text": [
      "0.3739481953829831\n"
     ]
    }
   ],
   "source": [
    "#Para obtener el GINI tenemos:\n",
    "roc_auc= tree_perf[\"roc_auc\"]\n",
    "GINI = (2 * roc_auc) - 1\n",
    "print(GINI)"
   ]
  },
  {
   "cell_type": "markdown",
   "metadata": {},
   "source": [
    "El GINI tambien nos da un buen parametro, siendo regular el modelo, con los datos de train."
   ]
  },
  {
   "cell_type": "markdown",
   "metadata": {},
   "source": [
    "---------------------------------------"
   ]
  },
  {
   "cell_type": "markdown",
   "metadata": {},
   "source": [
    "## Test"
   ]
  },
  {
   "cell_type": "code",
   "execution_count": 39,
   "metadata": {},
   "outputs": [
    {
     "data": {
      "text/plain": [
       "DecisionTreeClassifier(criterion='entropy', max_depth=6, min_samples_leaf=5,\n",
       "                       random_state=42)"
      ]
     },
     "execution_count": 39,
     "metadata": {},
     "output_type": "execute_result"
    }
   ],
   "source": [
    "dec_tree = DecisionTreeClassifier(random_state=42, max_depth = 6, criterion = 'entropy', min_samples_leaf= 5)\n",
    "dec_tree.fit(test_x, test_y)"
   ]
  },
  {
   "cell_type": "code",
   "execution_count": 40,
   "metadata": {},
   "outputs": [
    {
     "data": {
      "image/png": "[encoded data removed]",
      "text/plain": [
       "<Figure size 864x432 with 2 Axes>"
      ]
     },
     "metadata": {
      "needs_background": "light"
     },
     "output_type": "display_data"
    }
   ],
   "source": [
    "LABELS = ['Malo', 'Bueno']\n",
    "tree_perf = performance_evaluation_report(dec_tree, test_x,test_y, labels=LABELS, show_plot=True)"
   ]
  },
  {
   "cell_type": "code",
   "execution_count": 41,
   "metadata": {},
   "outputs": [
    {
     "data": {
      "text/plain": [
       "0.304177331816657"
      ]
     },
     "execution_count": 41,
     "metadata": {},
     "output_type": "execute_result"
    }
   ],
   "source": [
    "#Obtenemos el predict\n",
    "y_pr_fit_test = dec_tree.predict_proba(test_x)\n",
    "df_predicts_test = test_y.to_frame()\n",
    "df_predicts_test['estimado'] = y_pr_fit_test[:,1]\n",
    "\n",
    "#Construcción de Scorecard\n",
    "from statsmodels.distributions.empirical_distribution import ECDF\n",
    "from scipy.stats import ks_2samp\n",
    "\n",
    "#KS\n",
    "ecdf_malos_test = ECDF(df_predicts_test.loc[df_predicts_test.Dar_Credito==0.0,'estimado'])\n",
    "ecdf_buenos_test= ECDF(df_predicts_test.loc[df_predicts_test.Dar_Credito==1.0,'estimado'])\n",
    "grid_score_test = np.sort(df_predicts_test.estimado.unique())\n",
    "prob_acum_buenos_test = ecdf_buenos_test(grid_score_test)\n",
    "prob_acum_malos_test = ecdf_malos_test(grid_score_test)\n",
    "abs_dif_test = np.abs(prob_acum_buenos_test-prob_acum_malos_test)\n",
    "KS_test = np.max (abs_dif_test)\n",
    "KS_test"
   ]
  },
  {
   "cell_type": "markdown",
   "metadata": {},
   "source": [
    "Con un KS>20% pero menor al 40%, podemos decir que nuestro modelo es **satisfactorio** con los datos de test."
   ]
  },
  {
   "cell_type": "code",
   "execution_count": 43,
   "metadata": {},
   "outputs": [
    {
     "name": "stdout",
     "output_type": "stream",
     "text": [
      "0.42425526525047186\n"
     ]
    }
   ],
   "source": [
    "#Para obtener el GINI tenemos:\n",
    "roc_auc= tree_perf[\"roc_auc\"]\n",
    "GINI = (2 * roc_auc) - 1\n",
    "print(GINI)"
   ]
  },
  {
   "cell_type": "markdown",
   "metadata": {},
   "source": [
    "El GINI tambien nos da un buen parametro, siendo regular el modelo, con los datos de test."
   ]
  }
 ],
 "metadata": {
  "kernelspec": {
   "display_name": "Python 3",
   "language": "python",
   "name": "python3"
  },
  "language_info": {
   "codemirror_mode": {
    "name": "ipython",
    "version": 3
   },
   "file_extension": ".py",
   "mimetype": "text/x-python",
   "name": "python",
   "nbconvert_exporter": "python",
   "pygments_lexer": "ipython3",
   "version": "3.8.5"
  }
 },
 "nbformat": 4,
 "nbformat_minor": 4
}
