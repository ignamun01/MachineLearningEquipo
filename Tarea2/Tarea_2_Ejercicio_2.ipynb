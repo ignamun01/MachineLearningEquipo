{
 "cells": [
  {
   "cell_type": "markdown",
   "metadata": {},
   "source": [
    "# Tarea 2. Ejercicio 2."
   ]
  },
  {
   "cell_type": "markdown",
   "metadata": {},
   "source": [
    "Cargamos las paqueterias necesarias para realizar el ejercicio"
   ]
  },
  {
   "cell_type": "code",
   "execution_count": 28,
   "metadata": {},
   "outputs": [],
   "source": [
    "import pandas as pd\n",
    "from sklearn.model_selection import train_test_split\n",
    "from sklearn.impute import SimpleImputer\n",
    "from sklearn.preprocessing import OneHotEncoder\n",
    "from sklearn.compose import ColumnTransformer\n",
    "from sklearn.pipeline import Pipeline\n",
    "from sklearn.tree import DecisionTreeClassifier, export_graphviz\n",
    "from sklearn import metrics\n",
    "from pylab import*\n",
    "import seaborn as sns\n",
    "import numpy as np\n",
    "from sklearn.model_selection import (GridSearchCV, cross_val_score,\n",
    "                                                 RandomizedSearchCV,\n",
    "                                                 cross_validate,\n",
    "                                                 StratifiedKFold)\n",
    "from sklearn.tree import plot_tree"
   ]
  },
  {
   "cell_type": "markdown",
   "metadata": {},
   "source": [
    "Cargamos los datos para realizar el ejercicio y damos un vistazo de como se ve:"
   ]
  },
  {
   "cell_type": "code",
   "execution_count": 2,
   "metadata": {},
   "outputs": [
    {
     "data": {
      "text/html": [
       "<div>\n",
       "<style scoped>\n",
       "    .dataframe tbody tr th:only-of-type {\n",
       "        vertical-align: middle;\n",
       "    }\n",
       "\n",
       "    .dataframe tbody tr th {\n",
       "        vertical-align: top;\n",
       "    }\n",
       "\n",
       "    .dataframe thead th {\n",
       "        text-align: right;\n",
       "    }\n",
       "</style>\n",
       "<table border=\"1\" class=\"dataframe\">\n",
       "  <thead>\n",
       "    <tr style=\"text-align: right;\">\n",
       "      <th></th>\n",
       "      <th>Dar_Credito</th>\n",
       "      <th>comp_interno1</th>\n",
       "      <th>comp_externo1</th>\n",
       "      <th>comp_externo2</th>\n",
       "      <th>comp_externo3</th>\n",
       "      <th>comp_externo4</th>\n",
       "      <th>comp_mixto1</th>\n",
       "      <th>inversion</th>\n",
       "      <th>comp_interno2</th>\n",
       "      <th>comp_interno3</th>\n",
       "      <th>comp_interno4</th>\n",
       "      <th>categoria1</th>\n",
       "      <th>categoria2</th>\n",
       "      <th>categoria3</th>\n",
       "    </tr>\n",
       "  </thead>\n",
       "  <tbody>\n",
       "    <tr>\n",
       "      <th>0</th>\n",
       "      <td>1</td>\n",
       "      <td>0.000000</td>\n",
       "      <td>260.869565</td>\n",
       "      <td>25.854639</td>\n",
       "      <td>56.0</td>\n",
       "      <td>-230.0</td>\n",
       "      <td>0.33522</td>\n",
       "      <td>0.000000</td>\n",
       "      <td>b'0'</td>\n",
       "      <td>11</td>\n",
       "      <td>58</td>\n",
       "      <td>2</td>\n",
       "      <td>9</td>\n",
       "      <td>156</td>\n",
       "    </tr>\n",
       "    <tr>\n",
       "      <th>1</th>\n",
       "      <td>1</td>\n",
       "      <td>0.000000</td>\n",
       "      <td>40.579710</td>\n",
       "      <td>2.872738</td>\n",
       "      <td>62.0</td>\n",
       "      <td>-230.0</td>\n",
       "      <td>0.33334</td>\n",
       "      <td>0.041039</td>\n",
       "      <td>b'1'</td>\n",
       "      <td>28</td>\n",
       "      <td>45</td>\n",
       "      <td>1</td>\n",
       "      <td>4</td>\n",
       "      <td>173</td>\n",
       "    </tr>\n",
       "    <tr>\n",
       "      <th>2</th>\n",
       "      <td>1</td>\n",
       "      <td>0.000000</td>\n",
       "      <td>119.000000</td>\n",
       "      <td>-230.000000</td>\n",
       "      <td>0.0</td>\n",
       "      <td>0.0</td>\n",
       "      <td>0.29186</td>\n",
       "      <td>0.000000</td>\n",
       "      <td>b'1'</td>\n",
       "      <td>25</td>\n",
       "      <td>45</td>\n",
       "      <td>1</td>\n",
       "      <td>9</td>\n",
       "      <td>170</td>\n",
       "    </tr>\n",
       "    <tr>\n",
       "      <th>3</th>\n",
       "      <td>1</td>\n",
       "      <td>0.000000</td>\n",
       "      <td>349.275362</td>\n",
       "      <td>34.616490</td>\n",
       "      <td>94.0</td>\n",
       "      <td>-230.0</td>\n",
       "      <td>0.29112</td>\n",
       "      <td>0.000000</td>\n",
       "      <td>b'1'</td>\n",
       "      <td>14</td>\n",
       "      <td>59</td>\n",
       "      <td>3</td>\n",
       "      <td>3</td>\n",
       "      <td>159</td>\n",
       "    </tr>\n",
       "    <tr>\n",
       "      <th>4</th>\n",
       "      <td>1</td>\n",
       "      <td>2026.342452</td>\n",
       "      <td>276.811594</td>\n",
       "      <td>27.434645</td>\n",
       "      <td>125.0</td>\n",
       "      <td>-230.0</td>\n",
       "      <td>0.27318</td>\n",
       "      <td>77.422135</td>\n",
       "      <td>b'1'</td>\n",
       "      <td>1</td>\n",
       "      <td>67</td>\n",
       "      <td>2</td>\n",
       "      <td>9</td>\n",
       "      <td>146</td>\n",
       "    </tr>\n",
       "  </tbody>\n",
       "</table>\n",
       "</div>"
      ],
      "text/plain": [
       "   Dar_Credito  comp_interno1  comp_externo1  comp_externo2  comp_externo3  \\\n",
       "0            1       0.000000     260.869565      25.854639           56.0   \n",
       "1            1       0.000000      40.579710       2.872738           62.0   \n",
       "2            1       0.000000     119.000000    -230.000000            0.0   \n",
       "3            1       0.000000     349.275362      34.616490           94.0   \n",
       "4            1    2026.342452     276.811594      27.434645          125.0   \n",
       "\n",
       "   comp_externo4  comp_mixto1  inversion comp_interno2  comp_interno3  \\\n",
       "0         -230.0      0.33522   0.000000          b'0'             11   \n",
       "1         -230.0      0.33334   0.041039          b'1'             28   \n",
       "2            0.0      0.29186   0.000000          b'1'             25   \n",
       "3         -230.0      0.29112   0.000000          b'1'             14   \n",
       "4         -230.0      0.27318  77.422135          b'1'              1   \n",
       "\n",
       "   comp_interno4  categoria1  categoria2  categoria3  \n",
       "0             58           2           9         156  \n",
       "1             45           1           4         173  \n",
       "2             45           1           9         170  \n",
       "3             59           3           3         159  \n",
       "4             67           2           9         146  "
      ]
     },
     "execution_count": 2,
     "metadata": {},
     "output_type": "execute_result"
    }
   ],
   "source": [
    "DF = pd.read_excel('Base.xlsx',index_col=0)\n",
    "DF.head()"
   ]
  },
  {
   "cell_type": "markdown",
   "metadata": {},
   "source": [
    "##### Dividimos nuestra muestra en Test y Train"
   ]
  },
  {
   "cell_type": "code",
   "execution_count": 3,
   "metadata": {},
   "outputs": [],
   "source": [
    "train, test = train_test_split(DF, test_size = 0.30, random_state = 100) "
   ]
  },
  {
   "cell_type": "code",
   "execution_count": 4,
   "metadata": {},
   "outputs": [],
   "source": [
    "train_x = train.iloc[:,1:]\n",
    "train_y = train.iloc[:,0]\n",
    "test_x = test.iloc[:,1:]\n",
    "test_y = test.iloc[:,0]"
   ]
  },
  {
   "cell_type": "markdown",
   "metadata": {},
   "source": [
    "# Recordemos que el tarea 1 ejercicio 1 ya se le dio un tratamiento a los datos faltantes (NA's).\n",
    "### Y debido al análisis que se hizo en el ejercicio anterior, retiraremos ciertas variables que no aportan la información deseada o es redundante."
   ]
  },
  {
   "cell_type": "code",
   "execution_count": 5,
   "metadata": {},
   "outputs": [],
   "source": [
    "train_x = train_x.drop([\"comp_interno1\",\"comp_externo2\",\"inversion\",\"comp_interno2\",\"comp_interno4\",\"categoria1\",\"categoria2\",\"categoria3\"],axis=1)\n",
    "test_x = test_x.drop([\"comp_interno1\",\"comp_externo2\",\"inversion\",\"comp_interno2\",\"comp_interno4\",\"categoria1\",\"categoria2\",\"categoria3\"],axis=1)"
   ]
  },
  {
   "cell_type": "code",
   "execution_count": 27,
   "metadata": {},
   "outputs": [],
   "source": [
    "def performance_evaluation_report(model, X_test, y_test, show_plot=False, labels=None, show_pr_curve=False):\n",
    "    '''\n",
    "    Function for creating a performance report of a classification model.\n",
    "    \n",
    "    Parameters\n",
    "    ----------\n",
    "    model : scikit-learn estimator\n",
    "        A fitted estimator for classification problems.\n",
    "    X_test : pd.DataFrame\n",
    "        DataFrame with features matching y_test\n",
    "    y_test : array/pd.Series\n",
    "        Target of a classification problem.\n",
    "    show_plot : bool\n",
    "        Flag whether to show the plot\n",
    "    labels : list\n",
    "        List with the class names.\n",
    "    show_pr_curve : bool\n",
    "        Flag whether to also show the PR-curve. For this to take effect, \n",
    "        show_plot must be True.\n",
    "        \n",
    "    Return\n",
    "    ------\n",
    "    stats : pd.Series\n",
    "        A series with the most important evaluation metrics\n",
    "    '''\n",
    "    y_pred = model.predict(X_test)\n",
    "    y_pred_prob = model.predict_proba(X_test)[:, 1]\n",
    "\n",
    "    cm = metrics.confusion_matrix(y_test, y_pred)\n",
    "    tn, fp, fn, tp = cm.ravel()\n",
    "\n",
    "    fpr, tpr, threshold = metrics.roc_curve(y_test, y_pred_prob)\n",
    "    roc_auc = metrics.auc(fpr, tpr)\n",
    "\n",
    "    precision, recall, thresholds = metrics.precision_recall_curve(\n",
    "        y_test, y_pred_prob)\n",
    "    pr_auc = metrics.auc(recall, precision)\n",
    "\n",
    "    if show_plot:\n",
    "\n",
    "        if labels is None:\n",
    "            labels = ['Negative', 'Positive']\n",
    "\n",
    "        N_SUBPLOTS = 3 if show_pr_curve else 2\n",
    "        PLOT_WIDTH = 15 if show_pr_curve else 12\n",
    "        PLOT_HEIGHT = 5 if show_pr_curve else 6\n",
    "\n",
    "        fig, ax = plt.subplots(\n",
    "            1, N_SUBPLOTS, figsize=(PLOT_WIDTH, PLOT_HEIGHT))\n",
    "        fig.suptitle('Performance Evaluation', fontsize=16)\n",
    "\n",
    "        sns.heatmap(cm, annot=True, fmt=\"d\", linewidths=.5, cmap='BuGn_r', square=True, cbar=False, ax=ax[0],\n",
    "                    annot_kws={\"ha\": 'center', \"va\": 'center'})\n",
    "        ax[0].set(xlabel='Predicted label',\n",
    "                  ylabel='Actual label', title='Confusion Matrix')\n",
    "        ax[0].xaxis.set_ticklabels(labels)\n",
    "        ax[0].yaxis.set_ticklabels(labels)\n",
    "\n",
    "        ax[1].plot(fpr, tpr, 'b-', label=f'ROC-AUC = {roc_auc:.2f}')\n",
    "        ax[1].set(xlabel='False Positive Rate',\n",
    "                  ylabel='True Positive Rate', title='ROC Curve')\n",
    "        ax[1].plot(fp/(fp+tn), tp/(tp+fn), 'ro',\n",
    "                   markersize=8, label='Decision Point')\n",
    "        ax[1].plot([0, 1], [0, 1], 'r--')\n",
    "        ax[1].legend(loc='lower right')\n",
    "\n",
    "        if show_pr_curve:\n",
    "\n",
    "            ax[2].plot(recall, precision, label=f'PR-AUC = {pr_auc:.2f}')\n",
    "            ax[2].set(xlabel='Recall', ylabel='Precision',\n",
    "                      title='Precision-Recall Curve')\n",
    "            ax[2].legend()\n",
    "    stats = {'accuracy': metrics.accuracy_score(y_test, y_pred),\n",
    "             'precision': metrics.precision_score(y_test, y_pred),\n",
    "             'recall': metrics.recall_score(y_test, y_pred),\n",
    "             'specificity': (tn / (tn + fp)),\n",
    "             'f1_score': metrics.f1_score(y_test, y_pred),\n",
    "             'cohens_kappa': metrics.cohen_kappa_score(y_test, y_pred),\n",
    "             'roc_auc': roc_auc,\n",
    "             'pr_auc': pr_auc}\n",
    "\n",
    "    return stats"
   ]
  },
  {
   "cell_type": "markdown",
   "metadata": {},
   "source": [
    "------------------------------------"
   ]
  },
  {
   "cell_type": "markdown",
   "metadata": {},
   "source": [
    "### Realizamos el arbol de clasificacion"
   ]
  },
  {
   "cell_type": "code",
   "execution_count": 7,
   "metadata": {},
   "outputs": [],
   "source": [
    "dec_tree = DecisionTreeClassifier(random_state=42, criterion='entropy')"
   ]
  },
  {
   "cell_type": "code",
   "execution_count": 8,
   "metadata": {},
   "outputs": [],
   "source": [
    "tree_pipeline = Pipeline(steps=[('classifier', dec_tree)])"
   ]
  },
  {
   "cell_type": "code",
   "execution_count": 9,
   "metadata": {},
   "outputs": [
    {
     "data": {
      "text/plain": [
       "Pipeline(steps=[('classifier',\n",
       "                 DecisionTreeClassifier(criterion='entropy', random_state=42))])"
      ]
     },
     "execution_count": 9,
     "metadata": {},
     "output_type": "execute_result"
    }
   ],
   "source": [
    "tree_pipeline.fit(train_x, train_y)"
   ]
  },
  {
   "cell_type": "code",
   "execution_count": 10,
   "metadata": {},
   "outputs": [
    {
     "data": {
      "image/png": "[encoded data removed]",
      "text/plain": [
       "<Figure size 864x432 with 2 Axes>"
      ]
     },
     "metadata": {
      "needs_background": "light"
     },
     "output_type": "display_data"
    }
   ],
   "source": [
    "LABELS = ['Malo', 'Bueno']\n",
    "tree_perf = performance_evaluation_report(tree_pipeline, train_x,train_y, labels=LABELS,show_plot=True)"
   ]
  },
  {
   "cell_type": "markdown",
   "metadata": {},
   "source": [
    "### Veamos el comportamiento con la muestra test."
   ]
  },
  {
   "cell_type": "code",
   "execution_count": 11,
   "metadata": {},
   "outputs": [
    {
     "data": {
      "image/png": "[encoded data removed]",
      "text/plain": [
       "<Figure size 864x432 with 2 Axes>"
      ]
     },
     "metadata": {
      "needs_background": "light"
     },
     "output_type": "display_data"
    }
   ],
   "source": [
    "LABELS = ['Malo', 'Bueno']\n",
    "tree_perf = performance_evaluation_report(tree_pipeline, test_x,test_y, labels=LABELS,show_plot=True)"
   ]
  },
  {
   "cell_type": "markdown",
   "metadata": {},
   "source": [
    "### Con un AUC igual a 0.62, para la muestra train podemos decir que nuestro modelo es regular, y con la muestra test tenemos un AUC de 0.60, que de igual forma, podemos decir que es un Test regular. "
   ]
  },
  {
   "cell_type": "markdown",
   "metadata": {},
   "source": [
    "------------------------------"
   ]
  },
  {
   "cell_type": "markdown",
   "metadata": {},
   "source": [
    "## Ahora realicemos la validacion cruzada, y encontrar los mejores parametros para el árbol de decisión"
   ]
  },
  {
   "cell_type": "code",
   "execution_count": 12,
   "metadata": {},
   "outputs": [],
   "source": [
    "from sklearn.model_selection import (GridSearchCV, cross_val_score,\n",
    "                                                 RandomizedSearchCV,\n",
    "                                                 cross_validate,\n",
    "                                                 StratifiedKFold)"
   ]
  },
  {
   "cell_type": "code",
   "execution_count": 13,
   "metadata": {},
   "outputs": [],
   "source": [
    "k_fold = StratifiedKFold(5, shuffle=True, random_state=42)"
   ]
  },
  {
   "cell_type": "code",
   "execution_count": 14,
   "metadata": {},
   "outputs": [
    {
     "data": {
      "text/plain": [
       "array([0.87409289, 0.86738026, 0.87391147, 0.86792453, 0.86445291])"
      ]
     },
     "execution_count": 14,
     "metadata": {},
     "output_type": "execute_result"
    }
   ],
   "source": [
    "cross_val_score(tree_pipeline, train_x, train_y, cv=k_fold)"
   ]
  },
  {
   "cell_type": "code",
   "execution_count": 15,
   "metadata": {},
   "outputs": [
    {
     "data": {
      "text/plain": [
       "{'fit_time': array([0.26684737, 0.26384854, 0.41775966, 0.32181573, 0.3527987 ]),\n",
       " 'score_time': array([0.02798271, 0.04897475, 0.11893344, 0.03997755, 0.03898239]),\n",
       " 'test_accuracy': array([0.87409289, 0.86738026, 0.87391147, 0.86792453, 0.86445291]),\n",
       " 'test_precision': array([0.93535076, 0.93214005, 0.93312476, 0.93440032, 0.93277975]),\n",
       " 'test_recall': array([0.92878049, 0.92468293, 0.93112195, 0.92273171, 0.92058537]),\n",
       " 'test_roc_auc': array([0.54037436, 0.51647344, 0.52335564, 0.53206   , 0.52077316])}"
      ]
     },
     "execution_count": 15,
     "metadata": {},
     "output_type": "execute_result"
    }
   ],
   "source": [
    "cross_validate(tree_pipeline, train_x, train_y, cv=k_fold,\n",
    "                           scoring=['accuracy', 'precision', 'recall','roc_auc'])"
   ]
  },
  {
   "cell_type": "markdown",
   "metadata": {},
   "source": [
    "Podemos ver que los roc_auc son similares a los obtenidos anteriormente."
   ]
  },
  {
   "cell_type": "code",
   "execution_count": 16,
   "metadata": {},
   "outputs": [],
   "source": [
    "param_grid = {'classifier__criterion': ['entropy', 'gini'],\n",
    "               'classifier__max_depth': range(3, 11),\n",
    "               'classifier__min_samples_leaf': range(2, 11)}"
   ]
  },
  {
   "cell_type": "code",
   "execution_count": 17,
   "metadata": {},
   "outputs": [
    {
     "name": "stdout",
     "output_type": "stream",
     "text": [
      "Fitting 5 folds for each of 144 candidates, totalling 720 fits\n"
     ]
    },
    {
     "name": "stderr",
     "output_type": "stream",
     "text": [
      "[Parallel(n_jobs=-1)]: Using backend LokyBackend with 4 concurrent workers.\n",
      "[Parallel(n_jobs=-1)]: Done  42 tasks      | elapsed:   14.5s\n",
      "[Parallel(n_jobs=-1)]: Done 192 tasks      | elapsed:   24.2s\n",
      "[Parallel(n_jobs=-1)]: Done 442 tasks      | elapsed:   43.7s\n",
      "[Parallel(n_jobs=-1)]: Done 720 out of 720 | elapsed:  1.1min finished\n"
     ]
    },
    {
     "data": {
      "text/plain": [
       "GridSearchCV(cv=StratifiedKFold(n_splits=5, random_state=42, shuffle=True),\n",
       "             estimator=Pipeline(steps=[('classifier',\n",
       "                                        DecisionTreeClassifier(criterion='entropy',\n",
       "                                                               random_state=42))]),\n",
       "             n_jobs=-1,\n",
       "             param_grid={'classifier__criterion': ['entropy', 'gini'],\n",
       "                         'classifier__max_depth': range(3, 11),\n",
       "                         'classifier__min_samples_leaf': range(2, 11)},\n",
       "             scoring='roc_auc', verbose=1)"
      ]
     },
     "execution_count": 17,
     "metadata": {},
     "output_type": "execute_result"
    }
   ],
   "source": [
    "classifier_gs = GridSearchCV(tree_pipeline, param_grid,scoring='roc_auc',cv=k_fold, n_jobs=-1, verbose=1)\n",
    "classifier_gs.fit(train_x, train_y)"
   ]
  },
  {
   "cell_type": "code",
   "execution_count": 18,
   "metadata": {},
   "outputs": [
    {
     "name": "stdout",
     "output_type": "stream",
     "text": [
      "Best parameters: {'classifier__criterion': 'gini', 'classifier__max_depth': 5, 'classifier__min_samples_leaf': 9}\n",
      "Recall (Training set): 0.7086\n",
      "Recall (Test set): 0.9998\n"
     ]
    }
   ],
   "source": [
    "print(f'Best parameters: {classifier_gs.best_params_}') \n",
    "print(f'Recall (Training set): {classifier_gs.best_score_:.4f}') \n",
    "print(f'Recall (Test set): {metrics.recall_score(train_y, classifier_gs.predict(train_x)):.4f}')"
   ]
  },
  {
   "cell_type": "markdown",
   "metadata": {},
   "source": [
    "### Validemos que obtenemos un mejor resultado con la optimización que nos recomienda la función:"
   ]
  },
  {
   "cell_type": "code",
   "execution_count": 19,
   "metadata": {},
   "outputs": [
    {
     "data": {
      "image/png": "[encoded data removed]",
      "text/plain": [
       "<Figure size 864x432 with 2 Axes>"
      ]
     },
     "metadata": {
      "needs_background": "light"
     },
     "output_type": "display_data"
    }
   ],
   "source": [
    "LABELS = ['Malo', 'Bueno']\n",
    "tree_gs_perf = performance_evaluation_report(classifier_gs, test_x, \n",
    "                                             test_y, labels=LABELS, \n",
    "                                             show_plot=True)\n",
    "\n",
    "plt.tight_layout()\n",
    "plt.show()"
   ]
  },
  {
   "cell_type": "markdown",
   "metadata": {},
   "source": [
    "Y ciertamente mejoro el AUC pasamos de 0.60 a 0.62, sin embargo no fue una gran mejora, es por ello que se tiene la siguiente sección."
   ]
  },
  {
   "cell_type": "markdown",
   "metadata": {},
   "source": [
    "- - - - - - - - "
   ]
  },
  {
   "cell_type": "markdown",
   "metadata": {},
   "source": [
    "## Aun cuando la función nos recomienda los parametros, estos ¿Son los mejores?"
   ]
  },
  {
   "cell_type": "code",
   "execution_count": 20,
   "metadata": {},
   "outputs": [],
   "source": [
    "from sklearn.metrics import roc_auc_score, roc_curve, mean_squared_error, precision_recall_curve,  accuracy_score"
   ]
  },
  {
   "cell_type": "code",
   "execution_count": 26,
   "metadata": {},
   "outputs": [
    {
     "name": "stdout",
     "output_type": "stream",
     "text": [
      "1 "
     ]
    },
    {
     "ename": "NameError",
     "evalue": "name 'k_fold' is not defined",
     "output_type": "error",
     "traceback": [
      "\u001b[1;31m---------------------------------------------------------------------------\u001b[0m",
      "\u001b[1;31mNameError\u001b[0m                                 Traceback (most recent call last)",
      "\u001b[1;32m<ipython-input-26-8e114dd35041>\u001b[0m in \u001b[0;36m<module>\u001b[1;34m\u001b[0m\n\u001b[0;32m      8\u001b[0m     \u001b[0mtree_pipeline\u001b[0m \u001b[1;33m=\u001b[0m \u001b[0mPipeline\u001b[0m\u001b[1;33m(\u001b[0m\u001b[0msteps\u001b[0m\u001b[1;33m=\u001b[0m\u001b[1;33m[\u001b[0m\u001b[1;33m(\u001b[0m\u001b[1;34m'classifier'\u001b[0m\u001b[1;33m,\u001b[0m \u001b[0mreg_tree\u001b[0m\u001b[1;33m)\u001b[0m\u001b[1;33m]\u001b[0m\u001b[1;33m)\u001b[0m\u001b[1;33m\u001b[0m\u001b[1;33m\u001b[0m\u001b[0m\n\u001b[0;32m      9\u001b[0m     \u001b[0mtrain_scores\u001b[0m\u001b[1;33m[\u001b[0m\u001b[0mmax_depth\u001b[0m\u001b[1;33m]\u001b[0m\u001b[1;33m,\u001b[0m \u001b[0mval_scores\u001b[0m\u001b[1;33m[\u001b[0m\u001b[0mmax_depth\u001b[0m\u001b[1;33m]\u001b[0m\u001b[1;33m,\u001b[0m \u001b[0mleaves\u001b[0m\u001b[1;33m[\u001b[0m\u001b[0mmax_depth\u001b[0m\u001b[1;33m]\u001b[0m \u001b[1;33m=\u001b[0m \u001b[1;33m[\u001b[0m\u001b[1;33m]\u001b[0m\u001b[1;33m,\u001b[0m\u001b[1;33m[\u001b[0m\u001b[1;33m]\u001b[0m\u001b[1;33m,\u001b[0m \u001b[1;33m[\u001b[0m\u001b[1;33m]\u001b[0m\u001b[1;33m\u001b[0m\u001b[1;33m\u001b[0m\u001b[0m\n\u001b[1;32m---> 10\u001b[1;33m     \u001b[1;32mfor\u001b[0m \u001b[0mtrain_idx\u001b[0m\u001b[1;33m,\u001b[0m \u001b[0mtest_idx\u001b[0m \u001b[1;32min\u001b[0m \u001b[0mk_fold\u001b[0m\u001b[1;33m.\u001b[0m\u001b[0msplit\u001b[0m\u001b[1;33m(\u001b[0m\u001b[0mtrain_x\u001b[0m\u001b[1;33m,\u001b[0m\u001b[0mtrain_y\u001b[0m\u001b[1;33m)\u001b[0m\u001b[1;33m:\u001b[0m\u001b[1;33m\u001b[0m\u001b[1;33m\u001b[0m\u001b[0m\n\u001b[0m\u001b[0;32m     11\u001b[0m         \u001b[0mX_t\u001b[0m\u001b[1;33m,\u001b[0m \u001b[0my_t\u001b[0m\u001b[1;33m,\u001b[0m  \u001b[1;33m=\u001b[0m \u001b[0mtrain_x\u001b[0m\u001b[1;33m.\u001b[0m\u001b[0miloc\u001b[0m\u001b[1;33m[\u001b[0m\u001b[0mtrain_idx\u001b[0m\u001b[1;33m]\u001b[0m\u001b[1;33m,\u001b[0m \u001b[0mtrain_y\u001b[0m\u001b[1;33m.\u001b[0m\u001b[0miloc\u001b[0m\u001b[1;33m[\u001b[0m\u001b[0mtrain_idx\u001b[0m\u001b[1;33m]\u001b[0m\u001b[1;33m\u001b[0m\u001b[1;33m\u001b[0m\u001b[0m\n\u001b[0;32m     12\u001b[0m         \u001b[0mX_te\u001b[0m\u001b[1;33m,\u001b[0m \u001b[0my_te\u001b[0m \u001b[1;33m=\u001b[0m \u001b[0mtrain_x\u001b[0m\u001b[1;33m.\u001b[0m\u001b[0miloc\u001b[0m\u001b[1;33m[\u001b[0m\u001b[0mtest_idx\u001b[0m\u001b[1;33m]\u001b[0m\u001b[1;33m,\u001b[0m \u001b[0mtrain_y\u001b[0m\u001b[1;33m.\u001b[0m\u001b[0miloc\u001b[0m\u001b[1;33m[\u001b[0m\u001b[0mtest_idx\u001b[0m\u001b[1;33m]\u001b[0m\u001b[1;33m\u001b[0m\u001b[1;33m\u001b[0m\u001b[0m\n",
      "\u001b[1;31mNameError\u001b[0m: name 'k_fold' is not defined"
     ]
    }
   ],
   "source": [
    "train_scores, val_scores, leaves = {}, {}, {}\n",
    "for max_depth in range(1, 11):\n",
    "    print(max_depth, end=' ', flush=True)\n",
    "    reg_tree = DecisionTreeClassifier(criterion='entropy',\n",
    "                                          max_depth=max_depth,\n",
    "                                          min_samples_leaf=9,\n",
    "                                          random_state=42)\n",
    "    tree_pipeline = Pipeline(steps=[('classifier', reg_tree)])\n",
    "    train_scores[max_depth], val_scores[max_depth], leaves[max_depth] = [],[], []\n",
    "    for train_idx, test_idx in k_fold.split(train_x,train_y):\n",
    "        X_t, y_t,  = train_x.iloc[train_idx], train_y.iloc[train_idx]\n",
    "        X_te, y_te = train_x.iloc[test_idx], train_y.iloc[test_idx]\n",
    "        tree_pipeline.fit(X_t, y_t)\n",
    "        train_pred = tree_pipeline.predict_proba(X=X_t)[:, 1]\n",
    "        train_score = roc_auc_score(y_score=train_pred, y_true=y_t)\n",
    "        train_scores[max_depth].append(train_score)\n",
    "\n",
    "        test_pred = tree_pipeline.predict_proba(X=X_te)[:, 1]\n",
    "        val_score = roc_auc_score(y_score=test_pred, y_true=y_te)\n",
    "        val_scores[max_depth].append(val_score)  \n",
    "        leaves[max_depth].append(max_depth)"
   ]
  },
  {
   "cell_type": "code",
   "execution_count": 22,
   "metadata": {},
   "outputs": [
    {
     "data": {
      "text/html": [
       "<div>\n",
       "<style scoped>\n",
       "    .dataframe tbody tr th:only-of-type {\n",
       "        vertical-align: middle;\n",
       "    }\n",
       "\n",
       "    .dataframe tbody tr th {\n",
       "        vertical-align: top;\n",
       "    }\n",
       "\n",
       "    .dataframe thead th {\n",
       "        text-align: right;\n",
       "    }\n",
       "</style>\n",
       "<table border=\"1\" class=\"dataframe\">\n",
       "  <thead>\n",
       "    <tr style=\"text-align: right;\">\n",
       "      <th></th>\n",
       "      <th>1</th>\n",
       "      <th>2</th>\n",
       "      <th>3</th>\n",
       "      <th>4</th>\n",
       "      <th>5</th>\n",
       "      <th>6</th>\n",
       "      <th>7</th>\n",
       "      <th>8</th>\n",
       "      <th>9</th>\n",
       "      <th>10</th>\n",
       "    </tr>\n",
       "  </thead>\n",
       "  <tbody>\n",
       "    <tr>\n",
       "      <th>0</th>\n",
       "      <td>0.644431</td>\n",
       "      <td>0.685860</td>\n",
       "      <td>0.705958</td>\n",
       "      <td>0.723335</td>\n",
       "      <td>0.739312</td>\n",
       "      <td>0.751533</td>\n",
       "      <td>0.767669</td>\n",
       "      <td>0.785057</td>\n",
       "      <td>0.804359</td>\n",
       "      <td>0.823855</td>\n",
       "    </tr>\n",
       "    <tr>\n",
       "      <th>1</th>\n",
       "      <td>0.657753</td>\n",
       "      <td>0.695782</td>\n",
       "      <td>0.715919</td>\n",
       "      <td>0.731348</td>\n",
       "      <td>0.744715</td>\n",
       "      <td>0.761091</td>\n",
       "      <td>0.779151</td>\n",
       "      <td>0.801172</td>\n",
       "      <td>0.823293</td>\n",
       "      <td>0.841785</td>\n",
       "    </tr>\n",
       "    <tr>\n",
       "      <th>2</th>\n",
       "      <td>0.653123</td>\n",
       "      <td>0.683705</td>\n",
       "      <td>0.706473</td>\n",
       "      <td>0.720896</td>\n",
       "      <td>0.738137</td>\n",
       "      <td>0.754216</td>\n",
       "      <td>0.771713</td>\n",
       "      <td>0.791947</td>\n",
       "      <td>0.814719</td>\n",
       "      <td>0.836804</td>\n",
       "    </tr>\n",
       "    <tr>\n",
       "      <th>3</th>\n",
       "      <td>0.656855</td>\n",
       "      <td>0.691657</td>\n",
       "      <td>0.715099</td>\n",
       "      <td>0.729439</td>\n",
       "      <td>0.747006</td>\n",
       "      <td>0.762079</td>\n",
       "      <td>0.778105</td>\n",
       "      <td>0.795348</td>\n",
       "      <td>0.816249</td>\n",
       "      <td>0.837732</td>\n",
       "    </tr>\n",
       "    <tr>\n",
       "      <th>4</th>\n",
       "      <td>0.655843</td>\n",
       "      <td>0.689590</td>\n",
       "      <td>0.713437</td>\n",
       "      <td>0.729759</td>\n",
       "      <td>0.746441</td>\n",
       "      <td>0.762641</td>\n",
       "      <td>0.778334</td>\n",
       "      <td>0.798812</td>\n",
       "      <td>0.820927</td>\n",
       "      <td>0.845284</td>\n",
       "    </tr>\n",
       "  </tbody>\n",
       "</table>\n",
       "</div>"
      ],
      "text/plain": [
       "         1         2         3         4         5         6         7   \\\n",
       "0  0.644431  0.685860  0.705958  0.723335  0.739312  0.751533  0.767669   \n",
       "1  0.657753  0.695782  0.715919  0.731348  0.744715  0.761091  0.779151   \n",
       "2  0.653123  0.683705  0.706473  0.720896  0.738137  0.754216  0.771713   \n",
       "3  0.656855  0.691657  0.715099  0.729439  0.747006  0.762079  0.778105   \n",
       "4  0.655843  0.689590  0.713437  0.729759  0.746441  0.762641  0.778334   \n",
       "\n",
       "         8         9         10  \n",
       "0  0.785057  0.804359  0.823855  \n",
       "1  0.801172  0.823293  0.841785  \n",
       "2  0.791947  0.814719  0.836804  \n",
       "3  0.795348  0.816249  0.837732  \n",
       "4  0.798812  0.820927  0.845284  "
      ]
     },
     "execution_count": 22,
     "metadata": {},
     "output_type": "execute_result"
    }
   ],
   "source": [
    "clf_train_scores = pd.DataFrame(train_scores)\n",
    "clf_train_scores"
   ]
  },
  {
   "cell_type": "code",
   "execution_count": 23,
   "metadata": {},
   "outputs": [
    {
     "data": {
      "text/html": [
       "<div>\n",
       "<style scoped>\n",
       "    .dataframe tbody tr th:only-of-type {\n",
       "        vertical-align: middle;\n",
       "    }\n",
       "\n",
       "    .dataframe tbody tr th {\n",
       "        vertical-align: top;\n",
       "    }\n",
       "\n",
       "    .dataframe thead th {\n",
       "        text-align: right;\n",
       "    }\n",
       "</style>\n",
       "<table border=\"1\" class=\"dataframe\">\n",
       "  <thead>\n",
       "    <tr style=\"text-align: right;\">\n",
       "      <th></th>\n",
       "      <th>1</th>\n",
       "      <th>2</th>\n",
       "      <th>3</th>\n",
       "      <th>4</th>\n",
       "      <th>5</th>\n",
       "      <th>6</th>\n",
       "      <th>7</th>\n",
       "      <th>8</th>\n",
       "      <th>9</th>\n",
       "      <th>10</th>\n",
       "    </tr>\n",
       "  </thead>\n",
       "  <tbody>\n",
       "    <tr>\n",
       "      <th>0</th>\n",
       "      <td>0.653157</td>\n",
       "      <td>0.685071</td>\n",
       "      <td>0.694784</td>\n",
       "      <td>0.704914</td>\n",
       "      <td>0.712053</td>\n",
       "      <td>0.714726</td>\n",
       "      <td>0.718443</td>\n",
       "      <td>0.704814</td>\n",
       "      <td>0.699835</td>\n",
       "      <td>0.699199</td>\n",
       "    </tr>\n",
       "    <tr>\n",
       "      <th>1</th>\n",
       "      <td>0.632913</td>\n",
       "      <td>0.657358</td>\n",
       "      <td>0.672056</td>\n",
       "      <td>0.679886</td>\n",
       "      <td>0.690449</td>\n",
       "      <td>0.689465</td>\n",
       "      <td>0.681139</td>\n",
       "      <td>0.677688</td>\n",
       "      <td>0.662145</td>\n",
       "      <td>0.643238</td>\n",
       "    </tr>\n",
       "    <tr>\n",
       "      <th>2</th>\n",
       "      <td>0.663683</td>\n",
       "      <td>0.701126</td>\n",
       "      <td>0.726200</td>\n",
       "      <td>0.736951</td>\n",
       "      <td>0.726188</td>\n",
       "      <td>0.720432</td>\n",
       "      <td>0.706241</td>\n",
       "      <td>0.684389</td>\n",
       "      <td>0.673419</td>\n",
       "      <td>0.661608</td>\n",
       "    </tr>\n",
       "    <tr>\n",
       "      <th>3</th>\n",
       "      <td>0.648762</td>\n",
       "      <td>0.677147</td>\n",
       "      <td>0.692457</td>\n",
       "      <td>0.698453</td>\n",
       "      <td>0.704478</td>\n",
       "      <td>0.700281</td>\n",
       "      <td>0.699134</td>\n",
       "      <td>0.690386</td>\n",
       "      <td>0.675545</td>\n",
       "      <td>0.646750</td>\n",
       "    </tr>\n",
       "    <tr>\n",
       "      <th>4</th>\n",
       "      <td>0.650059</td>\n",
       "      <td>0.670052</td>\n",
       "      <td>0.690464</td>\n",
       "      <td>0.695291</td>\n",
       "      <td>0.699296</td>\n",
       "      <td>0.699705</td>\n",
       "      <td>0.692770</td>\n",
       "      <td>0.688914</td>\n",
       "      <td>0.672374</td>\n",
       "      <td>0.647586</td>\n",
       "    </tr>\n",
       "  </tbody>\n",
       "</table>\n",
       "</div>"
      ],
      "text/plain": [
       "         1         2         3         4         5         6         7   \\\n",
       "0  0.653157  0.685071  0.694784  0.704914  0.712053  0.714726  0.718443   \n",
       "1  0.632913  0.657358  0.672056  0.679886  0.690449  0.689465  0.681139   \n",
       "2  0.663683  0.701126  0.726200  0.736951  0.726188  0.720432  0.706241   \n",
       "3  0.648762  0.677147  0.692457  0.698453  0.704478  0.700281  0.699134   \n",
       "4  0.650059  0.670052  0.690464  0.695291  0.699296  0.699705  0.692770   \n",
       "\n",
       "         8         9         10  \n",
       "0  0.704814  0.699835  0.699199  \n",
       "1  0.677688  0.662145  0.643238  \n",
       "2  0.684389  0.673419  0.661608  \n",
       "3  0.690386  0.675545  0.646750  \n",
       "4  0.688914  0.672374  0.647586  "
      ]
     },
     "execution_count": 23,
     "metadata": {},
     "output_type": "execute_result"
    }
   ],
   "source": [
    "clf_valid_scores = pd.DataFrame(val_scores)\n",
    "clf_valid_scores"
   ]
  },
  {
   "cell_type": "code",
   "execution_count": 24,
   "metadata": {},
   "outputs": [],
   "source": [
    "bd_leaves = pd.DataFrame(leaves)"
   ]
  },
  {
   "cell_type": "code",
   "execution_count": 25,
   "metadata": {},
   "outputs": [],
   "source": [
    "roc_entrenamiento=[]\n",
    "for c in clf_train_scores.columns:\n",
    "    promedio_roc=mean(clf_train_scores[c])\n",
    "    roc_entrenamiento.append(promedio_roc)\n",
    "    \n",
    "roc_validacion=[]\n",
    "for c in clf_valid_scores.columns:\n",
    "    promedio_roc=mean(clf_valid_scores[c])\n",
    "    roc_validacion.append(promedio_roc)\n",
    "\n",
    "prof=[]\n",
    "for c in bd_leaves.columns:\n",
    "    id_=mean(bd_leaves[c])\n",
    "    prof.append(id_)"
   ]
  },
  {
   "cell_type": "code",
   "execution_count": 26,
   "metadata": {},
   "outputs": [
    {
     "data": {
      "image/png": "[encoded data removed]",
      "text/plain": [
       "<Figure size 720x360 with 1 Axes>"
      ]
     },
     "metadata": {
      "needs_background": "light"
     },
     "output_type": "display_data"
    }
   ],
   "source": [
    "fig, ax = plt.subplots(figsize=(10,5))\n",
    "\n",
    "ax.set_title(\"Entrenamiento Validación Sesgo\",fontsize=20)\n",
    "ax.plot(prof,roc_entrenamiento,color=\"blue\",linewidth=3,label=\"Entrenamiento\")\n",
    "ax.plot(prof,roc_validacion,color=\"red\",linewidth=3,label=\"Validacion\")\n",
    "xticks(fontsize=16)\n",
    "yticks(fontsize=16)\n",
    "axvline(5)\n",
    "legend(fontsize=15)\n",
    "show()"
   ]
  },
  {
   "cell_type": "markdown",
   "metadata": {},
   "source": [
    "#### A pesar de que la función pasada nos dice que los mejores parametros es max_depth= 5 y un min_samples_leaf= 2 nos dan **mejores resultados**, sin sesgar nuestro resultado: "
   ]
  },
  {
   "cell_type": "code",
   "execution_count": 7,
   "metadata": {},
   "outputs": [
    {
     "data": {
      "text/plain": [
       "DecisionTreeClassifier(criterion='entropy', max_depth=5, min_samples_leaf=9,\n",
       "                       random_state=42)"
      ]
     },
     "execution_count": 7,
     "metadata": {},
     "output_type": "execute_result"
    }
   ],
   "source": [
    "dec_tree = DecisionTreeClassifier(random_state=42, max_depth = 5, criterion = 'entropy', min_samples_leaf= 9)\n",
    "dec_tree.fit(train_x, train_y)"
   ]
  },
  {
   "cell_type": "code",
   "execution_count": 8,
   "metadata": {},
   "outputs": [
    {
     "data": {
      "image/png": "[encoded data removed]",
      "text/plain": [
       "<Figure size 864x432 with 2 Axes>"
      ]
     },
     "metadata": {
      "needs_background": "light"
     },
     "output_type": "display_data"
    }
   ],
   "source": [
    "LABELS = ['Malo', 'Bueno']\n",
    "tree_perf = performance_evaluation_report(dec_tree, train_x, train_y, labels=LABELS, show_plot=True)"
   ]
  },
  {
   "cell_type": "markdown",
   "metadata": {},
   "source": [
    "------------------------------------"
   ]
  },
  {
   "cell_type": "markdown",
   "metadata": {},
   "source": [
    "#### A continuación obtendremos el valor KS y GINI, el AUC-ROC se puede encontrar en la imagen anterior:"
   ]
  },
  {
   "cell_type": "markdown",
   "metadata": {},
   "source": [
    "## Train"
   ]
  },
  {
   "cell_type": "code",
   "execution_count": 29,
   "metadata": {},
   "outputs": [
    {
     "data": {
      "text/plain": [
       "0.3641514162483922"
      ]
     },
     "execution_count": 29,
     "metadata": {},
     "output_type": "execute_result"
    }
   ],
   "source": [
    "#Obtenemos el predict\n",
    "y_pr_fit_train = dec_tree.predict_proba(train_x)\n",
    "df_predicts_train = train_y.to_frame()\n",
    "df_predicts_train['estimado'] = y_pr_fit_train[:,1]\n",
    "\n",
    "#Construcción de Scorecard\n",
    "from statsmodels.distributions.empirical_distribution import ECDF\n",
    "from scipy.stats import ks_2samp\n",
    "\n",
    "#KS\n",
    "ecdf_malos_train = ECDF(df_predicts_train.loc[df_predicts_train.Dar_Credito==0.0,'estimado'])\n",
    "ecdf_buenos_train= ECDF(df_predicts_train.loc[df_predicts_train.Dar_Credito==1.0,'estimado'])\n",
    "grid_score_train = np.sort(df_predicts_train.estimado.unique())\n",
    "prob_acum_buenos_train = ecdf_buenos_train(grid_score_train)\n",
    "prob_acum_malos_train = ecdf_malos_train(grid_score_train)\n",
    "abs_dif_train = np.abs(prob_acum_buenos_train-prob_acum_malos_train)\n",
    "KS_train = np.max (abs_dif_train)\n",
    "KS_train"
   ]
  },
  {
   "cell_type": "markdown",
   "metadata": {},
   "source": [
    "Con un KS>20%, podemos decir que nuestro modelo es **satisfactorio** con los datos de train."
   ]
  },
  {
   "cell_type": "code",
   "execution_count": 30,
   "metadata": {},
   "outputs": [
    {
     "name": "stdout",
     "output_type": "stream",
     "text": [
      "0.4811123161903801\n"
     ]
    }
   ],
   "source": [
    "#Para obtener el GINI tenemos:\n",
    "roc_auc= tree_perf[\"roc_auc\"]\n",
    "GINI = (2 * roc_auc) - 1\n",
    "print(GINI)"
   ]
  },
  {
   "cell_type": "markdown",
   "metadata": {},
   "source": [
    "El GINI tambien nos da un buen parametro, siendo regular el modelo, con los datos de train."
   ]
  },
  {
   "cell_type": "markdown",
   "metadata": {},
   "source": [
    "---------------------------------------"
   ]
  },
  {
   "cell_type": "markdown",
   "metadata": {},
   "source": [
    "## Test"
   ]
  },
  {
   "cell_type": "code",
   "execution_count": 40,
   "metadata": {},
   "outputs": [
    {
     "data": {
      "image/png": "[encoded data removed]",
      "text/plain": [
       "<Figure size 1080x360 with 3 Axes>"
      ]
     },
     "metadata": {
      "needs_background": "light"
     },
     "output_type": "display_data"
    }
   ],
   "source": [
    "LABELS = ['Malo', 'Bueno']\n",
    "tree_perf = performance_evaluation_report(dec_tree, test_x, test_y, labels=LABELS, show_plot=True)"
   ]
  },
  {
   "cell_type": "code",
   "execution_count": 32,
   "metadata": {},
   "outputs": [
    {
     "data": {
      "text/plain": [
       "0.3063777656066525"
      ]
     },
     "execution_count": 32,
     "metadata": {},
     "output_type": "execute_result"
    }
   ],
   "source": [
    "#Obtenemos el predict\n",
    "y_pr_fit_test = dec_tree.predict_proba(test_x)\n",
    "df_predicts_test = test_y.to_frame()\n",
    "df_predicts_test['estimado'] = y_pr_fit_test[:,1]\n",
    "\n",
    "#Construcción de Scorecard\n",
    "from statsmodels.distributions.empirical_distribution import ECDF\n",
    "from scipy.stats import ks_2samp\n",
    "\n",
    "#KS\n",
    "ecdf_malos_test = ECDF(df_predicts_test.loc[df_predicts_test.Dar_Credito==0.0,'estimado'])\n",
    "ecdf_buenos_test= ECDF(df_predicts_test.loc[df_predicts_test.Dar_Credito==1.0,'estimado'])\n",
    "grid_score_test = np.sort(df_predicts_test.estimado.unique())\n",
    "prob_acum_buenos_test = ecdf_buenos_test(grid_score_test)\n",
    "prob_acum_malos_test = ecdf_malos_test(grid_score_test)\n",
    "abs_dif_test = np.abs(prob_acum_buenos_test-prob_acum_malos_test)\n",
    "KS_test = np.max (abs_dif_test)\n",
    "KS_test"
   ]
  },
  {
   "cell_type": "markdown",
   "metadata": {},
   "source": [
    "Con un KS>20% pero menor al 40%, podemos decir que nuestro modelo es **satisfactorio** con los datos de test."
   ]
  },
  {
   "cell_type": "code",
   "execution_count": 33,
   "metadata": {},
   "outputs": [
    {
     "name": "stdout",
     "output_type": "stream",
     "text": [
      "0.39278358214585585\n"
     ]
    }
   ],
   "source": [
    "#Para obtener el GINI tenemos:\n",
    "roc_auc= tree_perf[\"roc_auc\"]\n",
    "GINI = (2 * roc_auc) - 1\n",
    "print(GINI)"
   ]
  },
  {
   "cell_type": "markdown",
   "metadata": {},
   "source": [
    "El GINI tambien nos da un buen parametro, siendo regular el modelo, con los datos de test."
   ]
  },
  {
   "cell_type": "markdown",
   "metadata": {},
   "source": [
    "## Ahora hacemos el Cross-Validation, con el mejor modelo que encontramos:"
   ]
  },
  {
   "cell_type": "code",
   "execution_count": 34,
   "metadata": {},
   "outputs": [],
   "source": [
    "k_fold = StratifiedKFold(5, shuffle=True, random_state=42)"
   ]
  },
  {
   "cell_type": "code",
   "execution_count": 35,
   "metadata": {},
   "outputs": [
    {
     "data": {
      "text/plain": [
       "array([0.92932713, 0.92932713, 0.92972058, 0.92972058, 0.92929721])"
      ]
     },
     "execution_count": 35,
     "metadata": {},
     "output_type": "execute_result"
    }
   ],
   "source": [
    "cross_val_score(dec_tree, test_x, test_y, cv=k_fold)"
   ]
  },
  {
   "cell_type": "code",
   "execution_count": 36,
   "metadata": {},
   "outputs": [
    {
     "data": {
      "text/plain": [
       "{'fit_time': array([0.04397535, 0.07395744, 0.0349791 , 0.0379765 , 0.03997564]),\n",
       " 'score_time': array([0.02698302, 0.02198911, 0.02198863, 0.01799083, 0.01798964]),\n",
       " 'test_accuracy': array([0.92932713, 0.92932713, 0.92972058, 0.92972058, 0.92929721]),\n",
       " 'test_precision': array([0.92932713, 0.92932713, 0.92972058, 0.92972058, 0.92929721]),\n",
       " 'test_recall': array([1., 1., 1., 1., 1.]),\n",
       " 'test_roc_auc': array([0.71944635, 0.66747789, 0.68072563, 0.66351883, 0.6750549 ])}"
      ]
     },
     "execution_count": 36,
     "metadata": {},
     "output_type": "execute_result"
    }
   ],
   "source": [
    "test_cross=cross_validate(dec_tree, test_x, test_y, cv=k_fold,\n",
    "                           scoring=['accuracy', 'precision', 'recall','roc_auc'])\n",
    "test_cross"
   ]
  },
  {
   "cell_type": "code",
   "execution_count": 37,
   "metadata": {},
   "outputs": [
    {
     "data": {
      "text/plain": [
       "0.6812447209471431"
      ]
     },
     "execution_count": 37,
     "metadata": {},
     "output_type": "execute_result"
    }
   ],
   "source": [
    "roc_auc_array=test_cross['test_roc_auc']\n",
    "roc_auc_array.mean()"
   ]
  },
  {
   "cell_type": "markdown",
   "metadata": {},
   "source": [
    "El anterior resultado es el AUC que usaremos para comparar los dos modelos a elegir, y como se vera en el ejercicio 3, el elegido es el de arbol de clasificación, por lo que procedemos a encontrar los puntos optimos:"
   ]
  },
  {
   "cell_type": "markdown",
   "metadata": {},
   "source": [
    "## Puntos óptimos"
   ]
  },
  {
   "cell_type": "code",
   "execution_count": 54,
   "metadata": {},
   "outputs": [],
   "source": [
    "def Find_Optimal_Cutoff(target, predicted):\n",
    "    \"\"\" Find the optimal probability cutoff point for a classification model related to event rate\n",
    "    Parameters\n",
    "    ----------\n",
    "    target : Matrix with dependent or target data, where rows are observations\n",
    "\n",
    "    predicted : Matrix with predicted data, where rows are observations\n",
    "\n",
    "    Returns\n",
    "    -------     \n",
    "    list type, with optimal cutoff value\n",
    "        \n",
    "    \"\"\"\n",
    "    fpr, tpr, threshold = metrics.roc_curve(target, predicted)\n",
    "    i = np.arange(len(tpr)) \n",
    "    roc = pd.DataFrame({'tf' : pd.Series(tpr-fpr, index=i), 'threshold' : pd.Series(threshold, index=i)})\n",
    "    roc_t = roc.iloc[(roc.tf-0).abs().argsort()[:1]]\n",
    "\n",
    "    return list(roc_t['threshold']) "
   ]
  },
  {
   "cell_type": "code",
   "execution_count": 55,
   "metadata": {},
   "outputs": [
    {
     "data": {
      "text/plain": [
       "2"
      ]
     },
     "execution_count": 55,
     "metadata": {},
     "output_type": "execute_result"
    }
   ],
   "source": [
    "y_pred=dec_tree.predict(train_x)\n",
    "\n",
    "fpr, tpr, threshold = metrics.roc_curve(train_y, y_pred)\n",
    "\n",
    "optimal_idx = np.argmax(tpr - fpr)\n",
    "optimal_threshold = threshold[optimal_idx]\n",
    "\n",
    "optimal_threshold"
   ]
  },
  {
   "cell_type": "code",
   "execution_count": 57,
   "metadata": {},
   "outputs": [
    {
     "data": {
      "text/plain": [
       "[2]"
      ]
     },
     "execution_count": 57,
     "metadata": {},
     "output_type": "execute_result"
    }
   ],
   "source": [
    "optimo=Find_Optimal_Cutoff(train_y, y_pred) \n",
    "optimo"
   ]
  },
  {
   "cell_type": "code",
   "execution_count": null,
   "metadata": {},
   "outputs": [],
   "source": []
  }
 ],
 "metadata": {
  "kernelspec": {
   "display_name": "Python 3",
   "language": "python",
   "name": "python3"
  },
  "language_info": {
   "codemirror_mode": {
    "name": "ipython",
    "version": 3
   },
   "file_extension": ".py",
   "mimetype": "text/x-python",
   "name": "python",
   "nbconvert_exporter": "python",
   "pygments_lexer": "ipython3",
   "version": "3.8.5"
  }
 },
 "nbformat": 4,
 "nbformat_minor": 4
}
